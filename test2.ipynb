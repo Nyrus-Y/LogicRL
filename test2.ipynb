{
 "cells": [
  {
   "cell_type": "code",
   "execution_count": 1,
   "outputs": [],
   "source": [
    "\n",
    "import sys\n",
    "sys.path.append('src/')\n",
    "from src.logic_utils import get_lang\n",
    "\n",
    "import torch\n",
    "import numpy as np"
   ],
   "metadata": {
    "collapsed": false,
    "pycharm": {
     "name": "#%%\n"
    }
   }
  },
  {
   "cell_type": "code",
   "execution_count": 2,
   "outputs": [],
   "source": [
    "lark_path = 'src/lark/exp.lark'\n",
    "lang_base_path = 'data/lang/'\n",
    "lang, clauses, bk, atoms = get_lang(\n",
    "        lark_path, lang_base_path,'coinjump', 'coinjump')"
   ],
   "metadata": {
    "collapsed": false,
    "pycharm": {
     "name": "#%%\n"
    }
   }
  },
  {
   "cell_type": "code",
   "execution_count": 3,
   "outputs": [
    {
     "data": {
      "text/plain": "[.(__F__),\n .(__T__),\n closeby(obj1,obj2),\n closeby(obj1,obj3),\n closeby(obj1,obj4),\n closeby(obj2,obj1),\n closeby(obj2,obj3),\n closeby(obj2,obj4),\n closeby(obj3,obj1),\n closeby(obj3,obj2),\n closeby(obj3,obj4),\n closeby(obj4,obj1),\n closeby(obj4,obj2),\n closeby(obj4,obj3),\n have_key(img),\n jump(obj1),\n jump(obj2),\n jump(obj3),\n jump(obj4),\n left_go_get_key(obj1),\n left_go_get_key(obj2),\n left_go_get_key(obj3),\n left_go_get_key(obj4),\n left_go_to_door(obj1),\n left_go_to_door(obj2),\n left_go_to_door(obj3),\n left_go_to_door(obj4),\n not_have_key(img),\n on_left(obj1,obj2),\n on_left(obj1,obj3),\n on_left(obj1,obj4),\n on_left(obj2,obj1),\n on_left(obj2,obj3),\n on_left(obj2,obj4),\n on_left(obj3,obj1),\n on_left(obj3,obj2),\n on_left(obj3,obj4),\n on_left(obj4,obj1),\n on_left(obj4,obj2),\n on_left(obj4,obj3),\n on_right(obj1,obj2),\n on_right(obj1,obj3),\n on_right(obj1,obj4),\n on_right(obj2,obj1),\n on_right(obj2,obj3),\n on_right(obj2,obj4),\n on_right(obj3,obj1),\n on_right(obj3,obj2),\n on_right(obj3,obj4),\n on_right(obj4,obj1),\n on_right(obj4,obj2),\n on_right(obj4,obj3),\n right_go_get_key(obj1),\n right_go_get_key(obj2),\n right_go_get_key(obj3),\n right_go_get_key(obj4),\n right_go_to_door(obj1),\n right_go_to_door(obj2),\n right_go_to_door(obj3),\n right_go_to_door(obj4),\n type(obj1,agent),\n type(obj1,door),\n type(obj1,enemy),\n type(obj1,key),\n type(obj2,agent),\n type(obj2,door),\n type(obj2,enemy),\n type(obj2,key),\n type(obj3,agent),\n type(obj3,door),\n type(obj3,enemy),\n type(obj3,key),\n type(obj4,agent),\n type(obj4,door),\n type(obj4,enemy),\n type(obj4,key)]"
     },
     "execution_count": 3,
     "metadata": {},
     "output_type": "execute_result"
    }
   ],
   "source": [
    "atoms"
   ],
   "metadata": {
    "collapsed": false,
    "pycharm": {
     "name": "#%%\n"
    }
   }
  },
  {
   "cell_type": "code",
   "execution_count": 4,
   "outputs": [],
   "source": [
    "\n",
    "from percept import SlotAttentionPerceptionModule, YOLOPerceptionModule\n",
    "from facts_converter import FactsConverter\n",
    "from nsfr import NSFReasoner\n",
    "from logic_utils import build_infer_module, generate_atoms\n",
    "from valuation import RLValuationModule\n",
    "device = torch.device('cpu')"
   ],
   "metadata": {
    "collapsed": false,
    "pycharm": {
     "name": "#%%\n"
    }
   }
  },
  {
   "cell_type": "code",
   "execution_count": 5,
   "outputs": [],
   "source": [
    "def get_nsfr_model(lang, clauses, atoms, bk, device):\n",
    "    PM = YOLOPerceptionModule(e=4, d=11, device=device)\n",
    "    VM = RLValuationModule(\n",
    "            lang=lang, device=device)\n",
    "    FC = FactsConverter(lang=lang, perception_module=PM,\n",
    "                        valuation_module=VM, device=device)\n",
    "    IM = build_infer_module(clauses, atoms, lang,\n",
    "                            m=len(clauses), infer_step=4, device=device)\n",
    "    # Neuro-Symbolic Forward Reasoner\n",
    "    NSFR = NSFReasoner(perception_module=PM, facts_converter=FC,\n",
    "                       infer_module=IM, atoms=atoms, bk=bk, clauses=clauses)\n",
    "    return NSFR"
   ],
   "metadata": {
    "collapsed": false,
    "pycharm": {
     "name": "#%%\n"
    }
   }
  },
  {
   "cell_type": "code",
   "execution_count": 6,
   "outputs": [
    {
     "name": "stdout",
     "output_type": "stream",
     "text": [
      "Loading YOLO model...\n"
     ]
    }
   ],
   "source": [
    "NSFR = get_nsfr_model(lang, clauses, atoms, bk, device=device)"
   ],
   "metadata": {
    "collapsed": false,
    "pycharm": {
     "name": "#%%\n"
    }
   }
  },
  {
   "cell_type": "code",
   "execution_count": 7,
   "outputs": [],
   "source": [
    "metric =[[1,0,0,0,11,2],[0,1,0,0,14,2],[0,0,1,0,14.1,2],[0,0,0,1,20,2]]\n",
    "x = torch.tensor(np.array(metric), dtype=torch.float32).unsqueeze(0)"
   ],
   "metadata": {
    "collapsed": false,
    "pycharm": {
     "name": "#%%\n"
    }
   }
  },
  {
   "cell_type": "code",
   "execution_count": 8,
   "outputs": [
    {
     "data": {
      "text/plain": "torch.Size([1, 4, 6])"
     },
     "execution_count": 8,
     "metadata": {},
     "output_type": "execute_result"
    }
   ],
   "source": [
    "x.shape"
   ],
   "metadata": {
    "collapsed": false,
    "pycharm": {
     "name": "#%%\n"
    }
   }
  },
  {
   "cell_type": "code",
   "execution_count": 9,
   "outputs": [],
   "source": [
    "V_T = NSFR(x)"
   ],
   "metadata": {
    "collapsed": false,
    "pycharm": {
     "name": "#%%\n"
    }
   }
  },
  {
   "cell_type": "code",
   "execution_count": 10,
   "outputs": [
    {
     "name": "stdout",
     "output_type": "stream",
     "text": [
      "====== LEARNED PROGRAM ======\n",
      "C_0:  jump(O1):-type(O1,agent),type(O2,enemy),closeby(O1,O2). 1.0\n",
      "C_1:  left_go_get_key(01):-type(01,agent),type(02,key),on_left(02,01),not_have_key(X). 1.0\n",
      "C_2:  right_go_get_key(01):-type(01,agent),type(02,key),on_right(02,01),not_have_key(X). 1.0\n",
      "C_3:  left_go_to_door(01):-type(01,agent),type(02,door),on_left(02,01),have_key(X). 1.0\n",
      "C_4:  right_go_to_door(01):-type(01,agent),type(02,door),on_right(02,01),have_key(X). 1.0\n",
      "===== BATCH:  0 =====\n",
      "37 on_left(obj4,obj1) :  1.0\n",
      "60 type(obj1,agent) :  1.0\n",
      "34 on_left(obj3,obj1) :  1.0\n",
      "35 on_left(obj3,obj2) :  1.0\n",
      "27 not_have_key(img) :  1.0\n",
      "74 type(obj4,enemy) :  1.0\n",
      "45 on_right(obj2,obj4) :  1.0\n",
      "39 on_left(obj4,obj3) :  1.0\n",
      "67 type(obj2,key) :  1.0\n",
      "38 on_left(obj4,obj2) :  1.0\n",
      "40 on_right(obj1,obj2) :  1.0\n",
      "69 type(obj3,door) :  1.0\n",
      "41 on_right(obj1,obj3) :  1.0\n",
      "42 on_right(obj1,obj4) :  1.0\n",
      "48 on_right(obj3,obj4) :  1.0\n",
      "44 on_right(obj2,obj3) :  1.0\n",
      "1 .(__T__) :  1.0\n",
      "31 on_left(obj2,obj1) :  1.0\n",
      "6 closeby(obj2,obj3) :  0.996\n",
      "9 closeby(obj3,obj2) :  0.996\n"
     ]
    }
   ],
   "source": [
    "NSFR.print_valuation_batch(V_T)"
   ],
   "metadata": {
    "collapsed": false,
    "pycharm": {
     "name": "#%%\n"
    }
   }
  },
  {
   "cell_type": "code",
   "execution_count": 11,
   "outputs": [
    {
     "data": {
      "text/plain": "tensor([[0.04395, 1.00000, 0.04395, 0.04395, 0.04395, 0.04395, 0.99623, 0.04395, 0.04395, 0.99623, 0.04395, 0.04395, 0.04395, 0.04395, 0.04395, 0.05310, 0.04405, 0.04405, 0.04400, 0.04395, 0.04395, 0.04395, 0.04395, 0.04395, 0.04395, 0.04395, 0.04395, 1.00000, 0.04395, 0.04395, 0.04395, 1.00000, 0.04395, 0.04395,\n         1.00000, 1.00000, 0.04395, 1.00000, 1.00000, 1.00000, 1.00000, 1.00000, 1.00000, 0.04395, 1.00000, 1.00000, 0.04395, 0.04395, 1.00000, 0.04395, 0.04395, 0.04395, 0.04395, 0.04395, 0.04395, 0.04395, 0.04395, 0.04395, 0.04395, 0.04395, 1.00000, 0.04395, 0.04395, 0.04395, 0.04395, 0.04395, 0.04395, 1.00000,\n         0.04395, 1.00000, 0.04395, 0.04395, 0.04395, 0.04395, 1.00000, 0.04395]])"
     },
     "execution_count": 11,
     "metadata": {},
     "output_type": "execute_result"
    }
   ],
   "source": [
    "V_T"
   ],
   "metadata": {
    "collapsed": false,
    "pycharm": {
     "name": "#%%\n"
    }
   }
  },
  {
   "cell_type": "code",
   "execution_count": 12,
   "outputs": [
    {
     "data": {
      "text/plain": "[.(__F__),\n .(__T__),\n closeby(obj1,obj2),\n closeby(obj1,obj3),\n closeby(obj1,obj4),\n closeby(obj2,obj1),\n closeby(obj2,obj3),\n closeby(obj2,obj4),\n closeby(obj3,obj1),\n closeby(obj3,obj2),\n closeby(obj3,obj4),\n closeby(obj4,obj1),\n closeby(obj4,obj2),\n closeby(obj4,obj3),\n have_key(img),\n jump(obj1),\n jump(obj2),\n jump(obj3),\n jump(obj4),\n left_go_get_key(obj1),\n left_go_get_key(obj2),\n left_go_get_key(obj3),\n left_go_get_key(obj4),\n left_go_to_door(obj1),\n left_go_to_door(obj2),\n left_go_to_door(obj3),\n left_go_to_door(obj4),\n not_have_key(img),\n on_left(obj1,obj2),\n on_left(obj1,obj3),\n on_left(obj1,obj4),\n on_left(obj2,obj1),\n on_left(obj2,obj3),\n on_left(obj2,obj4),\n on_left(obj3,obj1),\n on_left(obj3,obj2),\n on_left(obj3,obj4),\n on_left(obj4,obj1),\n on_left(obj4,obj2),\n on_left(obj4,obj3),\n on_right(obj1,obj2),\n on_right(obj1,obj3),\n on_right(obj1,obj4),\n on_right(obj2,obj1),\n on_right(obj2,obj3),\n on_right(obj2,obj4),\n on_right(obj3,obj1),\n on_right(obj3,obj2),\n on_right(obj3,obj4),\n on_right(obj4,obj1),\n on_right(obj4,obj2),\n on_right(obj4,obj3),\n right_go_get_key(obj1),\n right_go_get_key(obj2),\n right_go_get_key(obj3),\n right_go_get_key(obj4),\n right_go_to_door(obj1),\n right_go_to_door(obj2),\n right_go_to_door(obj3),\n right_go_to_door(obj4),\n type(obj1,agent),\n type(obj1,door),\n type(obj1,enemy),\n type(obj1,key),\n type(obj2,agent),\n type(obj2,door),\n type(obj2,enemy),\n type(obj2,key),\n type(obj3,agent),\n type(obj3,door),\n type(obj3,enemy),\n type(obj3,key),\n type(obj4,agent),\n type(obj4,door),\n type(obj4,enemy),\n type(obj4,key)]"
     },
     "execution_count": 12,
     "metadata": {},
     "output_type": "execute_result"
    }
   ],
   "source": [
    "atoms"
   ],
   "metadata": {
    "collapsed": false,
    "pycharm": {
     "name": "#%%\n"
    }
   }
  },
  {
   "cell_type": "code",
   "execution_count": 13,
   "outputs": [
    {
     "name": "stdout",
     "output_type": "stream",
     "text": [
      "tensor(0.04395) .(__F__)\n",
      "tensor(1.) .(__T__)\n",
      "tensor(0.04395) closeby(obj1,obj2)\n",
      "tensor(0.04395) closeby(obj1,obj3)\n",
      "tensor(0.04395) closeby(obj1,obj4)\n",
      "tensor(0.04395) closeby(obj2,obj1)\n",
      "tensor(0.99623) closeby(obj2,obj3)\n",
      "tensor(0.04395) closeby(obj2,obj4)\n",
      "tensor(0.04395) closeby(obj3,obj1)\n",
      "tensor(0.99623) closeby(obj3,obj2)\n",
      "tensor(0.04395) closeby(obj3,obj4)\n",
      "tensor(0.04395) closeby(obj4,obj1)\n",
      "tensor(0.04395) closeby(obj4,obj2)\n",
      "tensor(0.04395) closeby(obj4,obj3)\n",
      "tensor(0.04395) have_key(img)\n",
      "tensor(0.05310) jump(obj1)\n",
      "tensor(0.04405) jump(obj2)\n",
      "tensor(0.04405) jump(obj3)\n",
      "tensor(0.04400) jump(obj4)\n",
      "tensor(0.04395) left_go_get_key(obj1)\n",
      "tensor(0.04395) left_go_get_key(obj2)\n",
      "tensor(0.04395) left_go_get_key(obj3)\n",
      "tensor(0.04395) left_go_get_key(obj4)\n",
      "tensor(0.04395) left_go_to_door(obj1)\n",
      "tensor(0.04395) left_go_to_door(obj2)\n",
      "tensor(0.04395) left_go_to_door(obj3)\n",
      "tensor(0.04395) left_go_to_door(obj4)\n",
      "tensor(1.) not_have_key(img)\n",
      "tensor(0.04395) on_left(obj1,obj2)\n",
      "tensor(0.04395) on_left(obj1,obj3)\n",
      "tensor(0.04395) on_left(obj1,obj4)\n",
      "tensor(1.) on_left(obj2,obj1)\n",
      "tensor(0.04395) on_left(obj2,obj3)\n",
      "tensor(0.04395) on_left(obj2,obj4)\n",
      "tensor(1.) on_left(obj3,obj1)\n",
      "tensor(1.) on_left(obj3,obj2)\n",
      "tensor(0.04395) on_left(obj3,obj4)\n",
      "tensor(1.) on_left(obj4,obj1)\n",
      "tensor(1.) on_left(obj4,obj2)\n",
      "tensor(1.) on_left(obj4,obj3)\n",
      "tensor(1.) on_right(obj1,obj2)\n",
      "tensor(1.) on_right(obj1,obj3)\n",
      "tensor(1.) on_right(obj1,obj4)\n",
      "tensor(0.04395) on_right(obj2,obj1)\n",
      "tensor(1.) on_right(obj2,obj3)\n",
      "tensor(1.) on_right(obj2,obj4)\n",
      "tensor(0.04395) on_right(obj3,obj1)\n",
      "tensor(0.04395) on_right(obj3,obj2)\n",
      "tensor(1.) on_right(obj3,obj4)\n",
      "tensor(0.04395) on_right(obj4,obj1)\n",
      "tensor(0.04395) on_right(obj4,obj2)\n",
      "tensor(0.04395) on_right(obj4,obj3)\n",
      "tensor(0.04395) right_go_get_key(obj1)\n",
      "tensor(0.04395) right_go_get_key(obj2)\n",
      "tensor(0.04395) right_go_get_key(obj3)\n",
      "tensor(0.04395) right_go_get_key(obj4)\n",
      "tensor(0.04395) right_go_to_door(obj1)\n",
      "tensor(0.04395) right_go_to_door(obj2)\n",
      "tensor(0.04395) right_go_to_door(obj3)\n",
      "tensor(0.04395) right_go_to_door(obj4)\n",
      "tensor(1.) type(obj1,agent)\n",
      "tensor(0.04395) type(obj1,door)\n",
      "tensor(0.04395) type(obj1,enemy)\n",
      "tensor(0.04395) type(obj1,key)\n",
      "tensor(0.04395) type(obj2,agent)\n",
      "tensor(0.04395) type(obj2,door)\n",
      "tensor(0.04395) type(obj2,enemy)\n",
      "tensor(1.) type(obj2,key)\n",
      "tensor(0.04395) type(obj3,agent)\n",
      "tensor(1.) type(obj3,door)\n",
      "tensor(0.04395) type(obj3,enemy)\n",
      "tensor(0.04395) type(obj3,key)\n",
      "tensor(0.04395) type(obj4,agent)\n",
      "tensor(0.04395) type(obj4,door)\n",
      "tensor(1.) type(obj4,enemy)\n",
      "tensor(0.04395) type(obj4,key)\n"
     ]
    }
   ],
   "source": [
    "for i, atom in enumerate(atoms):\n",
    "    print(V_T[0][i], atom)"
   ],
   "metadata": {
    "collapsed": false,
    "pycharm": {
     "name": "#%%\n"
    }
   }
  },
  {
   "cell_type": "code",
   "execution_count": 13,
   "outputs": [],
   "source": [],
   "metadata": {
    "collapsed": false,
    "pycharm": {
     "name": "#%%\n"
    }
   }
  },
  {
   "cell_type": "code",
   "execution_count": null,
   "outputs": [],
   "source": [],
   "metadata": {
    "collapsed": false,
    "pycharm": {
     "name": "#%%\n"
    }
   }
  }
 ],
 "metadata": {
  "kernelspec": {
   "display_name": "Python 3",
   "language": "python",
   "name": "python3"
  },
  "language_info": {
   "codemirror_mode": {
    "name": "ipython",
    "version": 2
   },
   "file_extension": ".py",
   "mimetype": "text/x-python",
   "name": "python",
   "nbconvert_exporter": "python",
   "pygments_lexer": "ipython2",
   "version": "2.7.6"
  }
 },
 "nbformat": 4,
 "nbformat_minor": 0
}