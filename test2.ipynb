{
 "cells": [
  {
   "cell_type": "code",
   "execution_count": 1,
   "outputs": [],
   "source": [
    "\n",
    "import sys\n",
    "sys.path.append('src/')\n",
    "from src.logic_utils import get_lang\n",
    "\n",
    "import torch\n",
    "import numpy as np"
   ],
   "metadata": {
    "collapsed": false,
    "pycharm": {
     "name": "#%%\n"
    }
   }
  },
  {
   "cell_type": "code",
   "execution_count": 2,
   "outputs": [],
   "source": [
    "lark_path = 'src/lark/exp.lark'\n",
    "lang_base_path = 'data/lang/'\n",
    "lang, clauses, bk, atoms = get_lang(\n",
    "        lark_path, lang_base_path,'coinjump1', 'coinjump1')"
   ],
   "metadata": {
    "collapsed": false,
    "pycharm": {
     "name": "#%%\n"
    }
   }
  },
  {
   "cell_type": "code",
   "execution_count": 3,
   "outputs": [
    {
     "data": {
      "text/plain": "[.(__F__),\n .(__T__),\n closeby(obj1,obj2),\n closeby(obj1,obj3),\n closeby(obj1,obj4),\n closeby(obj2,obj1),\n closeby(obj2,obj3),\n closeby(obj2,obj4),\n closeby(obj3,obj1),\n closeby(obj3,obj2),\n closeby(obj3,obj4),\n closeby(obj4,obj1),\n closeby(obj4,obj2),\n closeby(obj4,obj3),\n jump(obj1),\n jump(obj2),\n jump(obj3),\n jump(obj4),\n type(obj1,agent),\n type(obj1,door),\n type(obj1,enemy),\n type(obj1,key),\n type(obj2,agent),\n type(obj2,door),\n type(obj2,enemy),\n type(obj2,key),\n type(obj3,agent),\n type(obj3,door),\n type(obj3,enemy),\n type(obj3,key),\n type(obj4,agent),\n type(obj4,door),\n type(obj4,enemy),\n type(obj4,key)]"
     },
     "execution_count": 3,
     "metadata": {},
     "output_type": "execute_result"
    }
   ],
   "source": [
    "atoms"
   ],
   "metadata": {
    "collapsed": false,
    "pycharm": {
     "name": "#%%\n"
    }
   }
  },
  {
   "cell_type": "code",
   "execution_count": 4,
   "outputs": [],
   "source": [
    "\n",
    "from percept import SlotAttentionPerceptionModule, YOLOPerceptionModule\n",
    "from facts_converter import FactsConverter\n",
    "from nsfr import NSFReasoner\n",
    "from logic_utils import build_infer_module, generate_atoms\n",
    "from valuation import RLValuationModule\n",
    "device = torch.device('cpu')"
   ],
   "metadata": {
    "collapsed": false,
    "pycharm": {
     "name": "#%%\n"
    }
   }
  },
  {
   "cell_type": "code",
   "execution_count": 5,
   "outputs": [],
   "source": [
    "def get_nsfr_model(lang, clauses, atoms, bk, device):\n",
    "    PM = YOLOPerceptionModule(e=4, d=11, device=device)\n",
    "    VM = RLValuationModule(\n",
    "            lang=lang, device=device)\n",
    "    FC = FactsConverter(lang=lang, perception_module=PM,\n",
    "                        valuation_module=VM, device=device)\n",
    "    IM = build_infer_module(clauses, atoms, lang,\n",
    "                            m=len(clauses), infer_step=2, device=device)\n",
    "    # Neuro-Symbolic Forward Reasoner\n",
    "    NSFR = NSFReasoner(perception_module=PM, facts_converter=FC,\n",
    "                       infer_module=IM, atoms=atoms, bk=bk, clauses=clauses)\n",
    "    return NSFR"
   ],
   "metadata": {
    "collapsed": false,
    "pycharm": {
     "name": "#%%\n"
    }
   }
  },
  {
   "cell_type": "code",
   "execution_count": 6,
   "outputs": [
    {
     "name": "stdout",
     "output_type": "stream",
     "text": [
      "Loading YOLO model...\n",
      "Pretrained  neural predicate closeby have been loaded!\n"
     ]
    }
   ],
   "source": [
    "NSFR = get_nsfr_model(lang, clauses, atoms, bk, device=device)"
   ],
   "metadata": {
    "collapsed": false,
    "pycharm": {
     "name": "#%%\n"
    }
   }
  },
  {
   "cell_type": "code",
   "execution_count": 7,
   "outputs": [],
   "source": [
    "metric =[[0,0,0,1,0.21,0.2],[1,0,0,0, 0.18,0.22],[0,0,1,0,0.9,0.8],[0,1,0,0,0.5,0.5]]\n",
    "x = torch.tensor(np.array(metric), dtype=torch.float32).unsqueeze(0)"
   ],
   "metadata": {
    "collapsed": false,
    "pycharm": {
     "name": "#%%\n"
    }
   }
  },
  {
   "cell_type": "code",
   "execution_count": 8,
   "outputs": [
    {
     "data": {
      "text/plain": "torch.Size([1, 4, 6])"
     },
     "execution_count": 8,
     "metadata": {},
     "output_type": "execute_result"
    }
   ],
   "source": [
    "x.shape"
   ],
   "metadata": {
    "collapsed": false,
    "pycharm": {
     "name": "#%%\n"
    }
   }
  },
  {
   "cell_type": "code",
   "execution_count": 9,
   "outputs": [
    {
     "ename": "KeyError",
     "evalue": "'have_key'",
     "output_type": "error",
     "traceback": [
      "\u001B[1;31m---------------------------------------------------------------------------\u001B[0m",
      "\u001B[1;31mKeyError\u001B[0m                                  Traceback (most recent call last)",
      "Input \u001B[1;32mIn [9]\u001B[0m, in \u001B[0;36m<cell line: 1>\u001B[1;34m()\u001B[0m\n\u001B[1;32m----> 1\u001B[0m V_T \u001B[38;5;241m=\u001B[39m \u001B[43mNSFR\u001B[49m\u001B[43m(\u001B[49m\u001B[43mx\u001B[49m\u001B[43m)\u001B[49m\n",
      "File \u001B[1;32m~\\anaconda3\\envs\\explainingCoinJump\\lib\\site-packages\\torch\\nn\\modules\\module.py:1110\u001B[0m, in \u001B[0;36mModule._call_impl\u001B[1;34m(self, *input, **kwargs)\u001B[0m\n\u001B[0;32m   1106\u001B[0m \u001B[38;5;66;03m# If we don't have any hooks, we want to skip the rest of the logic in\u001B[39;00m\n\u001B[0;32m   1107\u001B[0m \u001B[38;5;66;03m# this function, and just call forward.\u001B[39;00m\n\u001B[0;32m   1108\u001B[0m \u001B[38;5;28;01mif\u001B[39;00m \u001B[38;5;129;01mnot\u001B[39;00m (\u001B[38;5;28mself\u001B[39m\u001B[38;5;241m.\u001B[39m_backward_hooks \u001B[38;5;129;01mor\u001B[39;00m \u001B[38;5;28mself\u001B[39m\u001B[38;5;241m.\u001B[39m_forward_hooks \u001B[38;5;129;01mor\u001B[39;00m \u001B[38;5;28mself\u001B[39m\u001B[38;5;241m.\u001B[39m_forward_pre_hooks \u001B[38;5;129;01mor\u001B[39;00m _global_backward_hooks\n\u001B[0;32m   1109\u001B[0m         \u001B[38;5;129;01mor\u001B[39;00m _global_forward_hooks \u001B[38;5;129;01mor\u001B[39;00m _global_forward_pre_hooks):\n\u001B[1;32m-> 1110\u001B[0m     \u001B[38;5;28;01mreturn\u001B[39;00m forward_call(\u001B[38;5;241m*\u001B[39m\u001B[38;5;28minput\u001B[39m, \u001B[38;5;241m*\u001B[39m\u001B[38;5;241m*\u001B[39mkwargs)\n\u001B[0;32m   1111\u001B[0m \u001B[38;5;66;03m# Do not call functions when jit is used\u001B[39;00m\n\u001B[0;32m   1112\u001B[0m full_backward_hooks, non_full_backward_hooks \u001B[38;5;241m=\u001B[39m [], []\n",
      "File \u001B[1;32mE:\\Github\\Use Knowledge Representation and Reasoning for the policy\\src\\nsfr.py:35\u001B[0m, in \u001B[0;36mNSFReasoner.forward\u001B[1;34m(self, x)\u001B[0m\n\u001B[0;32m     33\u001B[0m zs \u001B[38;5;241m=\u001B[39m x\n\u001B[0;32m     34\u001B[0m \u001B[38;5;66;03m# convert to the valuation tensor\u001B[39;00m\n\u001B[1;32m---> 35\u001B[0m V_0 \u001B[38;5;241m=\u001B[39m \u001B[38;5;28;43mself\u001B[39;49m\u001B[38;5;241;43m.\u001B[39;49m\u001B[43mfc\u001B[49m\u001B[43m(\u001B[49m\u001B[43mzs\u001B[49m\u001B[43m,\u001B[49m\u001B[43m \u001B[49m\u001B[38;5;28;43mself\u001B[39;49m\u001B[38;5;241;43m.\u001B[39;49m\u001B[43matoms\u001B[49m\u001B[43m,\u001B[49m\u001B[43m \u001B[49m\u001B[38;5;28;43mself\u001B[39;49m\u001B[38;5;241;43m.\u001B[39;49m\u001B[43mbk\u001B[49m\u001B[43m)\u001B[49m\n\u001B[0;32m     36\u001B[0m \u001B[38;5;66;03m# perform T-step forward-chaining reasoning\u001B[39;00m\n\u001B[0;32m     37\u001B[0m V_T \u001B[38;5;241m=\u001B[39m \u001B[38;5;28mself\u001B[39m\u001B[38;5;241m.\u001B[39mim(V_0)\n",
      "File \u001B[1;32m~\\anaconda3\\envs\\explainingCoinJump\\lib\\site-packages\\torch\\nn\\modules\\module.py:1110\u001B[0m, in \u001B[0;36mModule._call_impl\u001B[1;34m(self, *input, **kwargs)\u001B[0m\n\u001B[0;32m   1106\u001B[0m \u001B[38;5;66;03m# If we don't have any hooks, we want to skip the rest of the logic in\u001B[39;00m\n\u001B[0;32m   1107\u001B[0m \u001B[38;5;66;03m# this function, and just call forward.\u001B[39;00m\n\u001B[0;32m   1108\u001B[0m \u001B[38;5;28;01mif\u001B[39;00m \u001B[38;5;129;01mnot\u001B[39;00m (\u001B[38;5;28mself\u001B[39m\u001B[38;5;241m.\u001B[39m_backward_hooks \u001B[38;5;129;01mor\u001B[39;00m \u001B[38;5;28mself\u001B[39m\u001B[38;5;241m.\u001B[39m_forward_hooks \u001B[38;5;129;01mor\u001B[39;00m \u001B[38;5;28mself\u001B[39m\u001B[38;5;241m.\u001B[39m_forward_pre_hooks \u001B[38;5;129;01mor\u001B[39;00m _global_backward_hooks\n\u001B[0;32m   1109\u001B[0m         \u001B[38;5;129;01mor\u001B[39;00m _global_forward_hooks \u001B[38;5;129;01mor\u001B[39;00m _global_forward_pre_hooks):\n\u001B[1;32m-> 1110\u001B[0m     \u001B[38;5;28;01mreturn\u001B[39;00m forward_call(\u001B[38;5;241m*\u001B[39m\u001B[38;5;28minput\u001B[39m, \u001B[38;5;241m*\u001B[39m\u001B[38;5;241m*\u001B[39mkwargs)\n\u001B[0;32m   1111\u001B[0m \u001B[38;5;66;03m# Do not call functions when jit is used\u001B[39;00m\n\u001B[0;32m   1112\u001B[0m full_backward_hooks, non_full_backward_hooks \u001B[38;5;241m=\u001B[39m [], []\n",
      "File \u001B[1;32mE:\\Github\\Use Knowledge Representation and Reasoning for the policy\\src\\facts_converter.py:27\u001B[0m, in \u001B[0;36mFactsConverter.forward\u001B[1;34m(self, Z, G, B)\u001B[0m\n\u001B[0;32m     26\u001B[0m \u001B[38;5;28;01mdef\u001B[39;00m \u001B[38;5;21mforward\u001B[39m(\u001B[38;5;28mself\u001B[39m, Z, G, B):\n\u001B[1;32m---> 27\u001B[0m     \u001B[38;5;28;01mreturn\u001B[39;00m \u001B[38;5;28;43mself\u001B[39;49m\u001B[38;5;241;43m.\u001B[39;49m\u001B[43mconvert\u001B[49m\u001B[43m(\u001B[49m\u001B[43mZ\u001B[49m\u001B[43m,\u001B[49m\u001B[43m \u001B[49m\u001B[43mG\u001B[49m\u001B[43m,\u001B[49m\u001B[43m \u001B[49m\u001B[43mB\u001B[49m\u001B[43m)\u001B[49m\n",
      "File \u001B[1;32mE:\\Github\\Use Knowledge Representation and Reasoning for the policy\\src\\facts_converter.py:58\u001B[0m, in \u001B[0;36mFactsConverter.convert\u001B[1;34m(self, Z, G, B)\u001B[0m\n\u001B[0;32m     56\u001B[0m \u001B[38;5;28;01mfor\u001B[39;00m i, atom \u001B[38;5;129;01min\u001B[39;00m \u001B[38;5;28menumerate\u001B[39m(G):\n\u001B[0;32m     57\u001B[0m     \u001B[38;5;28;01mif\u001B[39;00m \u001B[38;5;28mtype\u001B[39m(atom\u001B[38;5;241m.\u001B[39mpred) \u001B[38;5;241m==\u001B[39m NeuralPredicate \u001B[38;5;129;01mand\u001B[39;00m i \u001B[38;5;241m>\u001B[39m \u001B[38;5;241m1\u001B[39m:\n\u001B[1;32m---> 58\u001B[0m         V[:, i] \u001B[38;5;241m=\u001B[39m \u001B[38;5;28;43mself\u001B[39;49m\u001B[38;5;241;43m.\u001B[39;49m\u001B[43mvm\u001B[49m\u001B[43m(\u001B[49m\u001B[43mZ\u001B[49m\u001B[43m,\u001B[49m\u001B[43m \u001B[49m\u001B[43matom\u001B[49m\u001B[43m)\u001B[49m\n\u001B[0;32m     59\u001B[0m     \u001B[38;5;28;01melif\u001B[39;00m atom \u001B[38;5;129;01min\u001B[39;00m B:\n\u001B[0;32m     60\u001B[0m         \u001B[38;5;66;03m# V[:, i] += 1.0\u001B[39;00m\n\u001B[0;32m     61\u001B[0m         V[:, i] \u001B[38;5;241m+\u001B[39m\u001B[38;5;241m=\u001B[39m torch\u001B[38;5;241m.\u001B[39mones((batch_size, ))\u001B[38;5;241m.\u001B[39mto(\n\u001B[0;32m     62\u001B[0m             torch\u001B[38;5;241m.\u001B[39mfloat32)\u001B[38;5;241m.\u001B[39mto(\u001B[38;5;28mself\u001B[39m\u001B[38;5;241m.\u001B[39mdevice)\n",
      "File \u001B[1;32m~\\anaconda3\\envs\\explainingCoinJump\\lib\\site-packages\\torch\\nn\\modules\\module.py:1110\u001B[0m, in \u001B[0;36mModule._call_impl\u001B[1;34m(self, *input, **kwargs)\u001B[0m\n\u001B[0;32m   1106\u001B[0m \u001B[38;5;66;03m# If we don't have any hooks, we want to skip the rest of the logic in\u001B[39;00m\n\u001B[0;32m   1107\u001B[0m \u001B[38;5;66;03m# this function, and just call forward.\u001B[39;00m\n\u001B[0;32m   1108\u001B[0m \u001B[38;5;28;01mif\u001B[39;00m \u001B[38;5;129;01mnot\u001B[39;00m (\u001B[38;5;28mself\u001B[39m\u001B[38;5;241m.\u001B[39m_backward_hooks \u001B[38;5;129;01mor\u001B[39;00m \u001B[38;5;28mself\u001B[39m\u001B[38;5;241m.\u001B[39m_forward_hooks \u001B[38;5;129;01mor\u001B[39;00m \u001B[38;5;28mself\u001B[39m\u001B[38;5;241m.\u001B[39m_forward_pre_hooks \u001B[38;5;129;01mor\u001B[39;00m _global_backward_hooks\n\u001B[0;32m   1109\u001B[0m         \u001B[38;5;129;01mor\u001B[39;00m _global_forward_hooks \u001B[38;5;129;01mor\u001B[39;00m _global_forward_pre_hooks):\n\u001B[1;32m-> 1110\u001B[0m     \u001B[38;5;28;01mreturn\u001B[39;00m forward_call(\u001B[38;5;241m*\u001B[39m\u001B[38;5;28minput\u001B[39m, \u001B[38;5;241m*\u001B[39m\u001B[38;5;241m*\u001B[39mkwargs)\n\u001B[0;32m   1111\u001B[0m \u001B[38;5;66;03m# Do not call functions when jit is used\u001B[39;00m\n\u001B[0;32m   1112\u001B[0m full_backward_hooks, non_full_backward_hooks \u001B[38;5;241m=\u001B[39m [], []\n",
      "File \u001B[1;32mE:\\Github\\Use Knowledge Representation and Reasoning for the policy\\src\\valuation.py:195\u001B[0m, in \u001B[0;36mRLValuationModule.forward\u001B[1;34m(self, zs, atom)\u001B[0m\n\u001B[0;32m    193\u001B[0m args \u001B[38;5;241m=\u001B[39m [\u001B[38;5;28mself\u001B[39m\u001B[38;5;241m.\u001B[39mground_to_tensor(term, zs) \u001B[38;5;28;01mfor\u001B[39;00m term \u001B[38;5;129;01min\u001B[39;00m atom\u001B[38;5;241m.\u001B[39mterms]\n\u001B[0;32m    194\u001B[0m \u001B[38;5;66;03m# call valuation function\u001B[39;00m\n\u001B[1;32m--> 195\u001B[0m \u001B[38;5;28;01mreturn\u001B[39;00m \u001B[38;5;28;43mself\u001B[39;49m\u001B[38;5;241;43m.\u001B[39;49m\u001B[43mvfs\u001B[49m\u001B[43m[\u001B[49m\u001B[43matom\u001B[49m\u001B[38;5;241;43m.\u001B[39;49m\u001B[43mpred\u001B[49m\u001B[38;5;241;43m.\u001B[39;49m\u001B[43mname\u001B[49m\u001B[43m]\u001B[49m(\u001B[38;5;241m*\u001B[39margs)\n",
      "\u001B[1;31mKeyError\u001B[0m: 'have_key'"
     ]
    }
   ],
   "source": [
    "V_T = NSFR(x)"
   ],
   "metadata": {
    "collapsed": false,
    "pycharm": {
     "name": "#%%\n"
    }
   }
  },
  {
   "cell_type": "code",
   "execution_count": 31,
   "outputs": [
    {
     "ename": "NameError",
     "evalue": "name 'V_T' is not defined",
     "output_type": "error",
     "traceback": [
      "\u001B[1;31m---------------------------------------------------------------------------\u001B[0m",
      "\u001B[1;31mNameError\u001B[0m                                 Traceback (most recent call last)",
      "Input \u001B[1;32mIn [31]\u001B[0m, in \u001B[0;36m<cell line: 1>\u001B[1;34m()\u001B[0m\n\u001B[1;32m----> 1\u001B[0m NSFR\u001B[38;5;241m.\u001B[39mprint_valuation_batch(\u001B[43mV_T\u001B[49m)\n",
      "\u001B[1;31mNameError\u001B[0m: name 'V_T' is not defined"
     ]
    }
   ],
   "source": [
    "NSFR.print_valuation_batch(V_T)"
   ],
   "metadata": {
    "collapsed": false,
    "pycharm": {
     "name": "#%%\n"
    }
   }
  },
  {
   "cell_type": "code",
   "execution_count": 11,
   "outputs": [
    {
     "data": {
      "text/plain": "tensor([[0.02183, 0.99322, 0.99312, 0.02183, 0.02183, 0.99312, 0.02183, 0.02183, 0.02183, 0.02183, 0.02183, 0.02183, 0.02183, 0.02183, 0.02188, 1.00000, 0.02185, 0.02185, 0.02183, 0.02183, 0.99322, 0.02183, 0.99322, 0.02183, 0.02183, 0.02183, 0.02183, 0.99322, 0.02183, 0.02183, 0.02183, 0.02183, 0.02183, 0.99322]],\n       grad_fn=<DivBackward0>)"
     },
     "execution_count": 11,
     "metadata": {},
     "output_type": "execute_result"
    }
   ],
   "source": [
    "V_T"
   ],
   "metadata": {
    "collapsed": false,
    "pycharm": {
     "name": "#%%\n"
    }
   }
  },
  {
   "cell_type": "code",
   "execution_count": 12,
   "outputs": [
    {
     "data": {
      "text/plain": "[.(__F__),\n .(__T__),\n closeby(obj1,obj2),\n closeby(obj1,obj3),\n closeby(obj1,obj4),\n closeby(obj2,obj1),\n closeby(obj2,obj3),\n closeby(obj2,obj4),\n closeby(obj3,obj1),\n closeby(obj3,obj2),\n closeby(obj3,obj4),\n closeby(obj4,obj1),\n closeby(obj4,obj2),\n closeby(obj4,obj3),\n jump(obj1),\n jump(obj2),\n jump(obj3),\n jump(obj4),\n type(obj1,agent),\n type(obj1,door),\n type(obj1,enemy),\n type(obj1,key),\n type(obj2,agent),\n type(obj2,door),\n type(obj2,enemy),\n type(obj2,key),\n type(obj3,agent),\n type(obj3,door),\n type(obj3,enemy),\n type(obj3,key),\n type(obj4,agent),\n type(obj4,door),\n type(obj4,enemy),\n type(obj4,key)]"
     },
     "execution_count": 12,
     "metadata": {},
     "output_type": "execute_result"
    }
   ],
   "source": [
    "atoms"
   ],
   "metadata": {
    "collapsed": false,
    "pycharm": {
     "name": "#%%\n"
    }
   }
  },
  {
   "cell_type": "code",
   "execution_count": 13,
   "outputs": [
    {
     "name": "stdout",
     "output_type": "stream",
     "text": [
      "tensor(0.02183, grad_fn=<SelectBackward0>) .(__F__)\n",
      "tensor(0.99322, grad_fn=<SelectBackward0>) .(__T__)\n",
      "tensor(0.99312, grad_fn=<SelectBackward0>) closeby(obj1,obj2)\n",
      "tensor(0.02183, grad_fn=<SelectBackward0>) closeby(obj1,obj3)\n",
      "tensor(0.02183, grad_fn=<SelectBackward0>) closeby(obj1,obj4)\n",
      "tensor(0.99312, grad_fn=<SelectBackward0>) closeby(obj2,obj1)\n",
      "tensor(0.02183, grad_fn=<SelectBackward0>) closeby(obj2,obj3)\n",
      "tensor(0.02183, grad_fn=<SelectBackward0>) closeby(obj2,obj4)\n",
      "tensor(0.02183, grad_fn=<SelectBackward0>) closeby(obj3,obj1)\n",
      "tensor(0.02183, grad_fn=<SelectBackward0>) closeby(obj3,obj2)\n",
      "tensor(0.02183, grad_fn=<SelectBackward0>) closeby(obj3,obj4)\n",
      "tensor(0.02183, grad_fn=<SelectBackward0>) closeby(obj4,obj1)\n",
      "tensor(0.02183, grad_fn=<SelectBackward0>) closeby(obj4,obj2)\n",
      "tensor(0.02183, grad_fn=<SelectBackward0>) closeby(obj4,obj3)\n",
      "tensor(0.02188, grad_fn=<SelectBackward0>) jump(obj1)\n",
      "tensor(1., grad_fn=<SelectBackward0>) jump(obj2)\n",
      "tensor(0.02185, grad_fn=<SelectBackward0>) jump(obj3)\n",
      "tensor(0.02185, grad_fn=<SelectBackward0>) jump(obj4)\n",
      "tensor(0.02183, grad_fn=<SelectBackward0>) type(obj1,agent)\n",
      "tensor(0.02183, grad_fn=<SelectBackward0>) type(obj1,door)\n",
      "tensor(0.99322, grad_fn=<SelectBackward0>) type(obj1,enemy)\n",
      "tensor(0.02183, grad_fn=<SelectBackward0>) type(obj1,key)\n",
      "tensor(0.99322, grad_fn=<SelectBackward0>) type(obj2,agent)\n",
      "tensor(0.02183, grad_fn=<SelectBackward0>) type(obj2,door)\n",
      "tensor(0.02183, grad_fn=<SelectBackward0>) type(obj2,enemy)\n",
      "tensor(0.02183, grad_fn=<SelectBackward0>) type(obj2,key)\n",
      "tensor(0.02183, grad_fn=<SelectBackward0>) type(obj3,agent)\n",
      "tensor(0.99322, grad_fn=<SelectBackward0>) type(obj3,door)\n",
      "tensor(0.02183, grad_fn=<SelectBackward0>) type(obj3,enemy)\n",
      "tensor(0.02183, grad_fn=<SelectBackward0>) type(obj3,key)\n",
      "tensor(0.02183, grad_fn=<SelectBackward0>) type(obj4,agent)\n",
      "tensor(0.02183, grad_fn=<SelectBackward0>) type(obj4,door)\n",
      "tensor(0.02183, grad_fn=<SelectBackward0>) type(obj4,enemy)\n",
      "tensor(0.99322, grad_fn=<SelectBackward0>) type(obj4,key)\n"
     ]
    }
   ],
   "source": [
    "for i, atom in enumerate(atoms):\n",
    "    print(V_T[0][i], atom)"
   ],
   "metadata": {
    "collapsed": false,
    "pycharm": {
     "name": "#%%\n"
    }
   }
  },
  {
   "cell_type": "code",
   "execution_count": null,
   "outputs": [],
   "source": [],
   "metadata": {
    "collapsed": false,
    "pycharm": {
     "name": "#%%\n"
    }
   }
  }
 ],
 "metadata": {
  "kernelspec": {
   "display_name": "Python 3",
   "language": "python",
   "name": "python3"
  },
  "language_info": {
   "codemirror_mode": {
    "name": "ipython",
    "version": 2
   },
   "file_extension": ".py",
   "mimetype": "text/x-python",
   "name": "python",
   "nbconvert_exporter": "python",
   "pygments_lexer": "ipython2",
   "version": "2.7.6"
  }
 },
 "nbformat": 4,
 "nbformat_minor": 0
}