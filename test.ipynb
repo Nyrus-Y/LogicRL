{
 "cells": [
  {
   "cell_type": "code",
   "execution_count": 6,
   "outputs": [],
   "source": [
    "\n",
    "import sys\n",
    "sys.path.append('src/')\n",
    "from src.logic_utils import get_lang\n",
    "\n",
    "import torch\n",
    "import numpy as np"
   ],
   "metadata": {
    "collapsed": false,
    "pycharm": {
     "name": "#%%\n"
    }
   }
  },
  {
   "cell_type": "code",
   "execution_count": 7,
   "outputs": [],
   "source": [
    "lark_path = 'src/lark/exp.lark'\n",
    "lang_base_path = 'data/lang/'\n",
    "lang, clauses, bk, atoms = get_lang(\n",
    "        lark_path, lang_base_path,'coinjump', 'coinjump')"
   ],
   "metadata": {
    "collapsed": false,
    "pycharm": {
     "name": "#%%\n"
    }
   }
  },
  {
   "cell_type": "code",
   "execution_count": 8,
   "outputs": [
    {
     "data": {
      "text/plain": "[.(__F__),\n .(__T__),\n closeby(obj1,obj2),\n closeby(obj1,obj3),\n closeby(obj1,obj4),\n closeby(obj2,obj1),\n closeby(obj2,obj3),\n closeby(obj2,obj4),\n closeby(obj3,obj1),\n closeby(obj3,obj2),\n closeby(obj3,obj4),\n closeby(obj4,obj1),\n closeby(obj4,obj2),\n closeby(obj4,obj3),\n have_key(img),\n jump(obj1),\n jump(obj2),\n jump(obj3),\n jump(obj4),\n left_go_get_key(obj1),\n left_go_get_key(obj2),\n left_go_get_key(obj3),\n left_go_get_key(obj4),\n left_go_to_door(obj1),\n left_go_to_door(obj2),\n left_go_to_door(obj3),\n left_go_to_door(obj4),\n not_have_key(img),\n on_left(obj1,obj2),\n on_left(obj1,obj3),\n on_left(obj1,obj4),\n on_left(obj2,obj1),\n on_left(obj2,obj3),\n on_left(obj2,obj4),\n on_left(obj3,obj1),\n on_left(obj3,obj2),\n on_left(obj3,obj4),\n on_left(obj4,obj1),\n on_left(obj4,obj2),\n on_left(obj4,obj3),\n on_right(obj1,obj2),\n on_right(obj1,obj3),\n on_right(obj1,obj4),\n on_right(obj2,obj1),\n on_right(obj2,obj3),\n on_right(obj2,obj4),\n on_right(obj3,obj1),\n on_right(obj3,obj2),\n on_right(obj3,obj4),\n on_right(obj4,obj1),\n on_right(obj4,obj2),\n on_right(obj4,obj3),\n right_go_get_key(obj1),\n right_go_get_key(obj2),\n right_go_get_key(obj3),\n right_go_get_key(obj4),\n right_go_to_door(obj1),\n right_go_to_door(obj2),\n right_go_to_door(obj3),\n right_go_to_door(obj4),\n type(obj1,agent),\n type(obj1,door),\n type(obj1,enemy),\n type(obj1,key),\n type(obj2,agent),\n type(obj2,door),\n type(obj2,enemy),\n type(obj2,key),\n type(obj3,agent),\n type(obj3,door),\n type(obj3,enemy),\n type(obj3,key),\n type(obj4,agent),\n type(obj4,door),\n type(obj4,enemy),\n type(obj4,key)]"
     },
     "execution_count": 8,
     "metadata": {},
     "output_type": "execute_result"
    }
   ],
   "source": [
    "atoms"
   ],
   "metadata": {
    "collapsed": false,
    "pycharm": {
     "name": "#%%\n"
    }
   }
  },
  {
   "cell_type": "code",
   "execution_count": 9,
   "outputs": [],
   "source": [
    "\n",
    "from percept import SlotAttentionPerceptionModule, YOLOPerceptionModule\n",
    "from facts_converter import FactsConverter\n",
    "from nsfr import NSFReasoner\n",
    "from logic_utils import build_infer_module, generate_atoms\n",
    "from valuation import RLValuationModule\n",
    "device = torch.device('cpu')"
   ],
   "metadata": {
    "collapsed": false,
    "pycharm": {
     "name": "#%%\n"
    }
   }
  },
  {
   "cell_type": "code",
   "execution_count": 10,
   "outputs": [],
   "source": [
    "def get_nsfr_model(lang, clauses, atoms, bk, device):\n",
    "    PM = YOLOPerceptionModule(e=4, d=11, device=device)\n",
    "    VM = RLValuationModule(\n",
    "            lang=lang, device=device)\n",
    "    FC = FactsConverter(lang=lang, perception_module=PM,\n",
    "                        valuation_module=VM, device=device)\n",
    "    IM = build_infer_module(clauses, atoms, lang,\n",
    "                            m=len(clauses), infer_step=2, device=device)\n",
    "    # Neuro-Symbolic Forward Reasoner\n",
    "    NSFR = NSFReasoner(perception_module=PM, facts_converter=FC,\n",
    "                       infer_module=IM, atoms=atoms, bk=bk, clauses=clauses)\n",
    "    return NSFR"
   ],
   "metadata": {
    "collapsed": false,
    "pycharm": {
     "name": "#%%\n"
    }
   }
  },
  {
   "cell_type": "code",
   "execution_count": 11,
   "outputs": [
    {
     "ename": "FileNotFoundError",
     "evalue": "[Errno 2] No such file or directory: '..\\\\src\\\\weights\\\\yolov5\\\\best.pt'",
     "output_type": "error",
     "traceback": [
      "\u001B[1;31m---------------------------------------------------------------------------\u001B[0m",
      "\u001B[1;31mFileNotFoundError\u001B[0m                         Traceback (most recent call last)",
      "Input \u001B[1;32mIn [11]\u001B[0m, in \u001B[0;36m<cell line: 1>\u001B[1;34m()\u001B[0m\n\u001B[1;32m----> 1\u001B[0m NSFR \u001B[38;5;241m=\u001B[39m \u001B[43mget_nsfr_model\u001B[49m\u001B[43m(\u001B[49m\u001B[43mlang\u001B[49m\u001B[43m,\u001B[49m\u001B[43m \u001B[49m\u001B[43mclauses\u001B[49m\u001B[43m,\u001B[49m\u001B[43m \u001B[49m\u001B[43matoms\u001B[49m\u001B[43m,\u001B[49m\u001B[43m \u001B[49m\u001B[43mbk\u001B[49m\u001B[43m,\u001B[49m\u001B[43m \u001B[49m\u001B[43mdevice\u001B[49m\u001B[38;5;241;43m=\u001B[39;49m\u001B[43mdevice\u001B[49m\u001B[43m)\u001B[49m\n",
      "Input \u001B[1;32mIn [10]\u001B[0m, in \u001B[0;36mget_nsfr_model\u001B[1;34m(lang, clauses, atoms, bk, device)\u001B[0m\n\u001B[0;32m      1\u001B[0m \u001B[38;5;28;01mdef\u001B[39;00m \u001B[38;5;21mget_nsfr_model\u001B[39m(lang, clauses, atoms, bk, device):\n\u001B[1;32m----> 2\u001B[0m     PM \u001B[38;5;241m=\u001B[39m \u001B[43mYOLOPerceptionModule\u001B[49m\u001B[43m(\u001B[49m\u001B[43me\u001B[49m\u001B[38;5;241;43m=\u001B[39;49m\u001B[38;5;241;43m4\u001B[39;49m\u001B[43m,\u001B[49m\u001B[43m \u001B[49m\u001B[43md\u001B[49m\u001B[38;5;241;43m=\u001B[39;49m\u001B[38;5;241;43m11\u001B[39;49m\u001B[43m,\u001B[49m\u001B[43m \u001B[49m\u001B[43mdevice\u001B[49m\u001B[38;5;241;43m=\u001B[39;49m\u001B[43mdevice\u001B[49m\u001B[43m)\u001B[49m\n\u001B[0;32m      3\u001B[0m     VM \u001B[38;5;241m=\u001B[39m RLValuationModule(\n\u001B[0;32m      4\u001B[0m             lang\u001B[38;5;241m=\u001B[39mlang, device\u001B[38;5;241m=\u001B[39mdevice)\n\u001B[0;32m      5\u001B[0m     FC \u001B[38;5;241m=\u001B[39m FactsConverter(lang\u001B[38;5;241m=\u001B[39mlang, perception_module\u001B[38;5;241m=\u001B[39mPM,\n\u001B[0;32m      6\u001B[0m                         valuation_module\u001B[38;5;241m=\u001B[39mVM, device\u001B[38;5;241m=\u001B[39mdevice)\n",
      "File \u001B[1;32mE:\\Github\\Use Knowledge Representation and Reasoning for the policy\\src\\percept.py:31\u001B[0m, in \u001B[0;36mYOLOPerceptionModule.__init__\u001B[1;34m(self, e, d, device, train)\u001B[0m\n\u001B[0;32m     29\u001B[0m \u001B[38;5;28mself\u001B[39m\u001B[38;5;241m.\u001B[39mdevice \u001B[38;5;241m=\u001B[39m device\n\u001B[0;32m     30\u001B[0m \u001B[38;5;28mself\u001B[39m\u001B[38;5;241m.\u001B[39mtrain_ \u001B[38;5;241m=\u001B[39m train  \u001B[38;5;66;03m# the parameters should be trained or not\u001B[39;00m\n\u001B[1;32m---> 31\u001B[0m \u001B[38;5;28mself\u001B[39m\u001B[38;5;241m.\u001B[39mmodel \u001B[38;5;241m=\u001B[39m \u001B[38;5;28;43mself\u001B[39;49m\u001B[38;5;241;43m.\u001B[39;49m\u001B[43mload_model\u001B[49m\u001B[43m(\u001B[49m\n\u001B[0;32m     32\u001B[0m \u001B[43m    \u001B[49m\u001B[43mpath\u001B[49m\u001B[38;5;241;43m=\u001B[39;49m\u001B[38;5;124;43m'\u001B[39;49m\u001B[38;5;124;43m../src/weights/yolov5/best.pt\u001B[39;49m\u001B[38;5;124;43m'\u001B[39;49m\u001B[43m,\u001B[49m\u001B[43m \u001B[49m\u001B[43mdevice\u001B[49m\u001B[38;5;241;43m=\u001B[39;49m\u001B[43mdevice\u001B[49m\u001B[43m)\u001B[49m\n\u001B[0;32m     33\u001B[0m \u001B[38;5;66;03m# function to transform e * d shape, YOLO returns class labels,\u001B[39;00m\n\u001B[0;32m     34\u001B[0m \u001B[38;5;66;03m# it should be decomposed into attributes and the probabilities.\u001B[39;00m\n\u001B[0;32m     35\u001B[0m \u001B[38;5;28mself\u001B[39m\u001B[38;5;241m.\u001B[39mpreprocess \u001B[38;5;241m=\u001B[39m YOLOPreprocess(device)\n",
      "File \u001B[1;32mE:\\Github\\Use Knowledge Representation and Reasoning for the policy\\src\\percept.py:39\u001B[0m, in \u001B[0;36mYOLOPerceptionModule.load_model\u001B[1;34m(self, path, device)\u001B[0m\n\u001B[0;32m     37\u001B[0m \u001B[38;5;28;01mdef\u001B[39;00m \u001B[38;5;21mload_model\u001B[39m(\u001B[38;5;28mself\u001B[39m, path, device):\n\u001B[0;32m     38\u001B[0m     \u001B[38;5;66;03m# print(\"Loading YOLO model...\")\u001B[39;00m\n\u001B[1;32m---> 39\u001B[0m     yolo_net \u001B[38;5;241m=\u001B[39m \u001B[43mattempt_load\u001B[49m\u001B[43m(\u001B[49m\u001B[43mweights\u001B[49m\u001B[38;5;241;43m=\u001B[39;49m\u001B[43mpath\u001B[49m\u001B[43m)\u001B[49m\n\u001B[0;32m     40\u001B[0m     yolo_net\u001B[38;5;241m.\u001B[39mto(device)\n\u001B[0;32m     41\u001B[0m     \u001B[38;5;28;01mif\u001B[39;00m \u001B[38;5;129;01mnot\u001B[39;00m \u001B[38;5;28mself\u001B[39m\u001B[38;5;241m.\u001B[39mtrain_:\n",
      "File \u001B[1;32mE:\\Github\\Use Knowledge Representation and Reasoning for the policy\\src\\yolov5\\models\\experimental.py:126\u001B[0m, in \u001B[0;36mattempt_load\u001B[1;34m(weights, map_location, inplace)\u001B[0m\n\u001B[0;32m    124\u001B[0m model \u001B[38;5;241m=\u001B[39m Ensemble()\n\u001B[0;32m    125\u001B[0m \u001B[38;5;28;01mfor\u001B[39;00m w \u001B[38;5;129;01min\u001B[39;00m weights \u001B[38;5;28;01mif\u001B[39;00m \u001B[38;5;28misinstance\u001B[39m(weights, \u001B[38;5;28mlist\u001B[39m) \u001B[38;5;28;01melse\u001B[39;00m [weights]:\n\u001B[1;32m--> 126\u001B[0m     ckpt \u001B[38;5;241m=\u001B[39m \u001B[43mtorch\u001B[49m\u001B[38;5;241;43m.\u001B[39;49m\u001B[43mload\u001B[49m\u001B[43m(\u001B[49m\u001B[43mattempt_download\u001B[49m\u001B[43m(\u001B[49m\n\u001B[0;32m    127\u001B[0m \u001B[43m        \u001B[49m\u001B[43mw\u001B[49m\u001B[43m)\u001B[49m\u001B[43m,\u001B[49m\u001B[43m \u001B[49m\u001B[43mmap_location\u001B[49m\u001B[38;5;241;43m=\u001B[39;49m\u001B[43mmap_location\u001B[49m\u001B[43m)\u001B[49m  \u001B[38;5;66;03m# load\u001B[39;00m\n\u001B[0;32m    128\u001B[0m     model\u001B[38;5;241m.\u001B[39mappend(ckpt[\u001B[38;5;124m'\u001B[39m\u001B[38;5;124mema\u001B[39m\u001B[38;5;124m'\u001B[39m \u001B[38;5;28;01mif\u001B[39;00m ckpt\u001B[38;5;241m.\u001B[39mget(\u001B[38;5;124m'\u001B[39m\u001B[38;5;124mema\u001B[39m\u001B[38;5;124m'\u001B[39m)\n\u001B[0;32m    129\u001B[0m                  \u001B[38;5;28;01melse\u001B[39;00m \u001B[38;5;124m'\u001B[39m\u001B[38;5;124mmodel\u001B[39m\u001B[38;5;124m'\u001B[39m]\u001B[38;5;241m.\u001B[39mfloat()\u001B[38;5;241m.\u001B[39mfuse()\u001B[38;5;241m.\u001B[39meval())  \u001B[38;5;66;03m# FP32 model\u001B[39;00m\n\u001B[0;32m    131\u001B[0m \u001B[38;5;66;03m# Compatibility updates\u001B[39;00m\n",
      "File \u001B[1;32m~\\anaconda3\\envs\\explainingCoinJump\\lib\\site-packages\\torch\\serialization.py:699\u001B[0m, in \u001B[0;36mload\u001B[1;34m(f, map_location, pickle_module, **pickle_load_args)\u001B[0m\n\u001B[0;32m    696\u001B[0m \u001B[38;5;28;01mif\u001B[39;00m \u001B[38;5;124m'\u001B[39m\u001B[38;5;124mencoding\u001B[39m\u001B[38;5;124m'\u001B[39m \u001B[38;5;129;01mnot\u001B[39;00m \u001B[38;5;129;01min\u001B[39;00m pickle_load_args\u001B[38;5;241m.\u001B[39mkeys():\n\u001B[0;32m    697\u001B[0m     pickle_load_args[\u001B[38;5;124m'\u001B[39m\u001B[38;5;124mencoding\u001B[39m\u001B[38;5;124m'\u001B[39m] \u001B[38;5;241m=\u001B[39m \u001B[38;5;124m'\u001B[39m\u001B[38;5;124mutf-8\u001B[39m\u001B[38;5;124m'\u001B[39m\n\u001B[1;32m--> 699\u001B[0m \u001B[38;5;28;01mwith\u001B[39;00m \u001B[43m_open_file_like\u001B[49m\u001B[43m(\u001B[49m\u001B[43mf\u001B[49m\u001B[43m,\u001B[49m\u001B[43m \u001B[49m\u001B[38;5;124;43m'\u001B[39;49m\u001B[38;5;124;43mrb\u001B[39;49m\u001B[38;5;124;43m'\u001B[39;49m\u001B[43m)\u001B[49m \u001B[38;5;28;01mas\u001B[39;00m opened_file:\n\u001B[0;32m    700\u001B[0m     \u001B[38;5;28;01mif\u001B[39;00m _is_zipfile(opened_file):\n\u001B[0;32m    701\u001B[0m         \u001B[38;5;66;03m# The zipfile reader is going to advance the current file position.\u001B[39;00m\n\u001B[0;32m    702\u001B[0m         \u001B[38;5;66;03m# If we want to actually tail call to torch.jit.load, we need to\u001B[39;00m\n\u001B[0;32m    703\u001B[0m         \u001B[38;5;66;03m# reset back to the original position.\u001B[39;00m\n\u001B[0;32m    704\u001B[0m         orig_position \u001B[38;5;241m=\u001B[39m opened_file\u001B[38;5;241m.\u001B[39mtell()\n",
      "File \u001B[1;32m~\\anaconda3\\envs\\explainingCoinJump\\lib\\site-packages\\torch\\serialization.py:231\u001B[0m, in \u001B[0;36m_open_file_like\u001B[1;34m(name_or_buffer, mode)\u001B[0m\n\u001B[0;32m    229\u001B[0m \u001B[38;5;28;01mdef\u001B[39;00m \u001B[38;5;21m_open_file_like\u001B[39m(name_or_buffer, mode):\n\u001B[0;32m    230\u001B[0m     \u001B[38;5;28;01mif\u001B[39;00m _is_path(name_or_buffer):\n\u001B[1;32m--> 231\u001B[0m         \u001B[38;5;28;01mreturn\u001B[39;00m \u001B[43m_open_file\u001B[49m\u001B[43m(\u001B[49m\u001B[43mname_or_buffer\u001B[49m\u001B[43m,\u001B[49m\u001B[43m \u001B[49m\u001B[43mmode\u001B[49m\u001B[43m)\u001B[49m\n\u001B[0;32m    232\u001B[0m     \u001B[38;5;28;01melse\u001B[39;00m:\n\u001B[0;32m    233\u001B[0m         \u001B[38;5;28;01mif\u001B[39;00m \u001B[38;5;124m'\u001B[39m\u001B[38;5;124mw\u001B[39m\u001B[38;5;124m'\u001B[39m \u001B[38;5;129;01min\u001B[39;00m mode:\n",
      "File \u001B[1;32m~\\anaconda3\\envs\\explainingCoinJump\\lib\\site-packages\\torch\\serialization.py:212\u001B[0m, in \u001B[0;36m_open_file.__init__\u001B[1;34m(self, name, mode)\u001B[0m\n\u001B[0;32m    211\u001B[0m \u001B[38;5;28;01mdef\u001B[39;00m \u001B[38;5;21m__init__\u001B[39m(\u001B[38;5;28mself\u001B[39m, name, mode):\n\u001B[1;32m--> 212\u001B[0m     \u001B[38;5;28msuper\u001B[39m(_open_file, \u001B[38;5;28mself\u001B[39m)\u001B[38;5;241m.\u001B[39m\u001B[38;5;21m__init__\u001B[39m(\u001B[38;5;28;43mopen\u001B[39;49m\u001B[43m(\u001B[49m\u001B[43mname\u001B[49m\u001B[43m,\u001B[49m\u001B[43m \u001B[49m\u001B[43mmode\u001B[49m\u001B[43m)\u001B[49m)\n",
      "\u001B[1;31mFileNotFoundError\u001B[0m: [Errno 2] No such file or directory: '..\\\\src\\\\weights\\\\yolov5\\\\best.pt'"
     ]
    }
   ],
   "source": [
    "NSFR = get_nsfr_model(lang, clauses, atoms, bk, device=device)"
   ],
   "metadata": {
    "collapsed": false,
    "pycharm": {
     "name": "#%%\n"
    }
   }
  },
  {
   "cell_type": "code",
   "execution_count": null,
   "outputs": [],
   "source": [
    "metric =[[0,0,0,1,0.21,0.2],[1,0,0,0, 0.18, 0.22],[0,0,1,0,0.9,0.8],[0,1,0,0,0.5,0.5]]\n",
    "x = torch.tensor(np.array(metric), dtype=torch.float32).unsqueeze(0)"
   ],
   "metadata": {
    "collapsed": false,
    "pycharm": {
     "name": "#%%\n"
    }
   }
  },
  {
   "cell_type": "code",
   "execution_count": 12,
   "outputs": [
    {
     "ename": "NameError",
     "evalue": "name 'x' is not defined",
     "output_type": "error",
     "traceback": [
      "\u001B[1;31m---------------------------------------------------------------------------\u001B[0m",
      "\u001B[1;31mNameError\u001B[0m                                 Traceback (most recent call last)",
      "Input \u001B[1;32mIn [12]\u001B[0m, in \u001B[0;36m<cell line: 1>\u001B[1;34m()\u001B[0m\n\u001B[1;32m----> 1\u001B[0m \u001B[43mx\u001B[49m\u001B[38;5;241m.\u001B[39mshape\n",
      "\u001B[1;31mNameError\u001B[0m: name 'x' is not defined"
     ]
    }
   ],
   "source": [
    "x.shape"
   ],
   "metadata": {
    "collapsed": false,
    "pycharm": {
     "name": "#%%\n"
    }
   }
  },
  {
   "cell_type": "code",
   "execution_count": 13,
   "outputs": [
    {
     "ename": "NameError",
     "evalue": "name 'NSFR' is not defined",
     "output_type": "error",
     "traceback": [
      "\u001B[1;31m---------------------------------------------------------------------------\u001B[0m",
      "\u001B[1;31mNameError\u001B[0m                                 Traceback (most recent call last)",
      "Input \u001B[1;32mIn [13]\u001B[0m, in \u001B[0;36m<cell line: 1>\u001B[1;34m()\u001B[0m\n\u001B[1;32m----> 1\u001B[0m V_T \u001B[38;5;241m=\u001B[39m \u001B[43mNSFR\u001B[49m(x)\n",
      "\u001B[1;31mNameError\u001B[0m: name 'NSFR' is not defined"
     ]
    }
   ],
   "source": [
    "V_T = NSFR(x)"
   ],
   "metadata": {
    "collapsed": false,
    "pycharm": {
     "name": "#%%\n"
    }
   }
  },
  {
   "cell_type": "code",
   "execution_count": 14,
   "outputs": [
    {
     "ename": "NameError",
     "evalue": "name 'NSFR' is not defined",
     "output_type": "error",
     "traceback": [
      "\u001B[1;31m---------------------------------------------------------------------------\u001B[0m",
      "\u001B[1;31mNameError\u001B[0m                                 Traceback (most recent call last)",
      "Input \u001B[1;32mIn [14]\u001B[0m, in \u001B[0;36m<cell line: 1>\u001B[1;34m()\u001B[0m\n\u001B[1;32m----> 1\u001B[0m \u001B[43mNSFR\u001B[49m\u001B[38;5;241m.\u001B[39mprint_valuation_batch(V_T)\n",
      "\u001B[1;31mNameError\u001B[0m: name 'NSFR' is not defined"
     ]
    }
   ],
   "source": [
    "NSFR.print_valuation_batch(V_T)"
   ],
   "metadata": {
    "collapsed": false,
    "pycharm": {
     "name": "#%%\n"
    }
   }
  },
  {
   "cell_type": "code",
   "execution_count": 15,
   "outputs": [
    {
     "ename": "NameError",
     "evalue": "name 'V_T' is not defined",
     "output_type": "error",
     "traceback": [
      "\u001B[1;31m---------------------------------------------------------------------------\u001B[0m",
      "\u001B[1;31mNameError\u001B[0m                                 Traceback (most recent call last)",
      "Input \u001B[1;32mIn [15]\u001B[0m, in \u001B[0;36m<cell line: 1>\u001B[1;34m()\u001B[0m\n\u001B[1;32m----> 1\u001B[0m \u001B[43mV_T\u001B[49m\n",
      "\u001B[1;31mNameError\u001B[0m: name 'V_T' is not defined"
     ]
    }
   ],
   "source": [
    "V_T"
   ],
   "metadata": {
    "collapsed": false,
    "pycharm": {
     "name": "#%%\n"
    }
   }
  },
  {
   "cell_type": "code",
   "execution_count": 16,
   "outputs": [
    {
     "data": {
      "text/plain": "[.(__F__),\n .(__T__),\n closeby(obj1,obj2),\n closeby(obj1,obj3),\n closeby(obj1,obj4),\n closeby(obj2,obj1),\n closeby(obj2,obj3),\n closeby(obj2,obj4),\n closeby(obj3,obj1),\n closeby(obj3,obj2),\n closeby(obj3,obj4),\n closeby(obj4,obj1),\n closeby(obj4,obj2),\n closeby(obj4,obj3),\n have_key(img),\n jump(obj1),\n jump(obj2),\n jump(obj3),\n jump(obj4),\n left_go_get_key(obj1),\n left_go_get_key(obj2),\n left_go_get_key(obj3),\n left_go_get_key(obj4),\n left_go_to_door(obj1),\n left_go_to_door(obj2),\n left_go_to_door(obj3),\n left_go_to_door(obj4),\n not_have_key(img),\n on_left(obj1,obj2),\n on_left(obj1,obj3),\n on_left(obj1,obj4),\n on_left(obj2,obj1),\n on_left(obj2,obj3),\n on_left(obj2,obj4),\n on_left(obj3,obj1),\n on_left(obj3,obj2),\n on_left(obj3,obj4),\n on_left(obj4,obj1),\n on_left(obj4,obj2),\n on_left(obj4,obj3),\n on_right(obj1,obj2),\n on_right(obj1,obj3),\n on_right(obj1,obj4),\n on_right(obj2,obj1),\n on_right(obj2,obj3),\n on_right(obj2,obj4),\n on_right(obj3,obj1),\n on_right(obj3,obj2),\n on_right(obj3,obj4),\n on_right(obj4,obj1),\n on_right(obj4,obj2),\n on_right(obj4,obj3),\n right_go_get_key(obj1),\n right_go_get_key(obj2),\n right_go_get_key(obj3),\n right_go_get_key(obj4),\n right_go_to_door(obj1),\n right_go_to_door(obj2),\n right_go_to_door(obj3),\n right_go_to_door(obj4),\n type(obj1,agent),\n type(obj1,door),\n type(obj1,enemy),\n type(obj1,key),\n type(obj2,agent),\n type(obj2,door),\n type(obj2,enemy),\n type(obj2,key),\n type(obj3,agent),\n type(obj3,door),\n type(obj3,enemy),\n type(obj3,key),\n type(obj4,agent),\n type(obj4,door),\n type(obj4,enemy),\n type(obj4,key)]"
     },
     "execution_count": 16,
     "metadata": {},
     "output_type": "execute_result"
    }
   ],
   "source": [
    "atoms"
   ],
   "metadata": {
    "collapsed": false,
    "pycharm": {
     "name": "#%%\n"
    }
   }
  },
  {
   "cell_type": "code",
   "execution_count": 13,
   "outputs": [
    {
     "name": "stdout",
     "output_type": "stream",
     "text": [
      "tensor(0.02183, grad_fn=<SelectBackward0>) .(__F__)\n",
      "tensor(0.99322, grad_fn=<SelectBackward0>) .(__T__)\n",
      "tensor(0.99312, grad_fn=<SelectBackward0>) closeby(obj1,obj2)\n",
      "tensor(0.02183, grad_fn=<SelectBackward0>) closeby(obj1,obj3)\n",
      "tensor(0.02183, grad_fn=<SelectBackward0>) closeby(obj1,obj4)\n",
      "tensor(0.99312, grad_fn=<SelectBackward0>) closeby(obj2,obj1)\n",
      "tensor(0.02183, grad_fn=<SelectBackward0>) closeby(obj2,obj3)\n",
      "tensor(0.02183, grad_fn=<SelectBackward0>) closeby(obj2,obj4)\n",
      "tensor(0.02183, grad_fn=<SelectBackward0>) closeby(obj3,obj1)\n",
      "tensor(0.02183, grad_fn=<SelectBackward0>) closeby(obj3,obj2)\n",
      "tensor(0.02183, grad_fn=<SelectBackward0>) closeby(obj3,obj4)\n",
      "tensor(0.02183, grad_fn=<SelectBackward0>) closeby(obj4,obj1)\n",
      "tensor(0.02183, grad_fn=<SelectBackward0>) closeby(obj4,obj2)\n",
      "tensor(0.02183, grad_fn=<SelectBackward0>) closeby(obj4,obj3)\n",
      "tensor(0.02188, grad_fn=<SelectBackward0>) jump(obj1)\n",
      "tensor(1., grad_fn=<SelectBackward0>) jump(obj2)\n",
      "tensor(0.02185, grad_fn=<SelectBackward0>) jump(obj3)\n",
      "tensor(0.02185, grad_fn=<SelectBackward0>) jump(obj4)\n",
      "tensor(0.02183, grad_fn=<SelectBackward0>) type(obj1,agent)\n",
      "tensor(0.02183, grad_fn=<SelectBackward0>) type(obj1,door)\n",
      "tensor(0.99322, grad_fn=<SelectBackward0>) type(obj1,enemy)\n",
      "tensor(0.02183, grad_fn=<SelectBackward0>) type(obj1,key)\n",
      "tensor(0.99322, grad_fn=<SelectBackward0>) type(obj2,agent)\n",
      "tensor(0.02183, grad_fn=<SelectBackward0>) type(obj2,door)\n",
      "tensor(0.02183, grad_fn=<SelectBackward0>) type(obj2,enemy)\n",
      "tensor(0.02183, grad_fn=<SelectBackward0>) type(obj2,key)\n",
      "tensor(0.02183, grad_fn=<SelectBackward0>) type(obj3,agent)\n",
      "tensor(0.99322, grad_fn=<SelectBackward0>) type(obj3,door)\n",
      "tensor(0.02183, grad_fn=<SelectBackward0>) type(obj3,enemy)\n",
      "tensor(0.02183, grad_fn=<SelectBackward0>) type(obj3,key)\n",
      "tensor(0.02183, grad_fn=<SelectBackward0>) type(obj4,agent)\n",
      "tensor(0.02183, grad_fn=<SelectBackward0>) type(obj4,door)\n",
      "tensor(0.02183, grad_fn=<SelectBackward0>) type(obj4,enemy)\n",
      "tensor(0.99322, grad_fn=<SelectBackward0>) type(obj4,key)\n"
     ]
    }
   ],
   "source": [
    "for i, atom in enumerate(atoms):\n",
    "    print(V_T[0][i], atom)"
   ],
   "metadata": {
    "collapsed": false,
    "pycharm": {
     "name": "#%%\n"
    }
   }
  },
  {
   "cell_type": "code",
   "execution_count": null,
   "outputs": [],
   "source": [],
   "metadata": {
    "collapsed": false,
    "pycharm": {
     "name": "#%%\n"
    }
   }
  }
 ],
 "metadata": {
  "kernelspec": {
   "display_name": "Python 3",
   "language": "python",
   "name": "python3"
  },
  "language_info": {
   "codemirror_mode": {
    "name": "ipython",
    "version": 2
   },
   "file_extension": ".py",
   "mimetype": "text/x-python",
   "name": "python",
   "nbconvert_exporter": "python",
   "pygments_lexer": "ipython2",
   "version": "2.7.6"
  }
 },
 "nbformat": 4,
 "nbformat_minor": 0
}