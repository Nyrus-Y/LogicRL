{
 "cells": [
  {
   "cell_type": "code",
   "execution_count": 1,
   "outputs": [],
   "source": [
    "\n",
    "import sys\n",
    "sys.path.append('src/')\n",
    "from src.logic_utils import get_lang\n",
    "\n",
    "import torch\n",
    "import numpy as np"
   ],
   "metadata": {
    "collapsed": false,
    "pycharm": {
     "name": "#%%\n"
    }
   }
  },
  {
   "cell_type": "code",
   "execution_count": 2,
   "outputs": [],
   "source": [
    "lark_path = 'src/lark/exp.lark'\n",
    "lang_base_path = 'data/lang/'\n",
    "lang, clauses, bk, atoms = get_lang(\n",
    "        lark_path, lang_base_path,'coinjump', 'coinjump')"
   ],
   "metadata": {
    "collapsed": false,
    "pycharm": {
     "name": "#%%\n"
    }
   }
  },
  {
   "cell_type": "code",
   "execution_count": 3,
   "outputs": [
    {
     "data": {
      "text/plain": "[.(__F__),\n .(__T__),\n closeby(obj1,obj2),\n closeby(obj1,obj3),\n closeby(obj1,obj4),\n closeby(obj2,obj1),\n closeby(obj2,obj3),\n closeby(obj2,obj4),\n closeby(obj3,obj1),\n closeby(obj3,obj2),\n closeby(obj3,obj4),\n closeby(obj4,obj1),\n closeby(obj4,obj2),\n closeby(obj4,obj3),\n jump(obj1),\n jump(obj2),\n jump(obj3),\n jump(obj4),\n type(obj1,agent),\n type(obj1,door),\n type(obj1,enemy),\n type(obj1,key),\n type(obj2,agent),\n type(obj2,door),\n type(obj2,enemy),\n type(obj2,key),\n type(obj3,agent),\n type(obj3,door),\n type(obj3,enemy),\n type(obj3,key),\n type(obj4,agent),\n type(obj4,door),\n type(obj4,enemy),\n type(obj4,key)]"
     },
     "execution_count": 3,
     "metadata": {},
     "output_type": "execute_result"
    }
   ],
   "source": [
    "atoms"
   ],
   "metadata": {
    "collapsed": false,
    "pycharm": {
     "name": "#%%\n"
    }
   }
  },
  {
   "cell_type": "code",
   "execution_count": 4,
   "outputs": [],
   "source": [
    "\n",
    "from percept import SlotAttentionPerceptionModule, YOLOPerceptionModule\n",
    "from facts_converter import FactsConverter\n",
    "from nsfr import NSFReasoner\n",
    "from logic_utils import build_infer_module, generate_atoms\n",
    "from valuation import RLValuationModule\n",
    "device = torch.device('cpu')"
   ],
   "metadata": {
    "collapsed": false,
    "pycharm": {
     "name": "#%%\n"
    }
   }
  },
  {
   "cell_type": "code",
   "execution_count": 5,
   "outputs": [],
   "source": [
    "def get_nsfr_model(lang, clauses, atoms, bk, device):\n",
    "    PM = YOLOPerceptionModule(e=4, d=11, device=device)\n",
    "    VM = RLValuationModule(\n",
    "            lang=lang, device=device)\n",
    "    FC = FactsConverter(lang=lang, perception_module=PM,\n",
    "                        valuation_module=VM, device=device)\n",
    "    IM = build_infer_module(clauses, atoms, lang,\n",
    "                            m=len(clauses), infer_step=2, device=device)\n",
    "    # Neuro-Symbolic Forward Reasoner\n",
    "    NSFR = NSFReasoner(perception_module=PM, facts_converter=FC,\n",
    "                       infer_module=IM, atoms=atoms, bk=bk, clauses=clauses)\n",
    "    return NSFR"
   ],
   "metadata": {
    "collapsed": false,
    "pycharm": {
     "name": "#%%\n"
    }
   }
  },
  {
   "cell_type": "code",
   "execution_count": 6,
   "outputs": [
    {
     "name": "stdout",
     "output_type": "stream",
     "text": [
      "Loading YOLO model...\n",
      "Pretrained  neural predicate closeby have been loaded!\n"
     ]
    }
   ],
   "source": [
    "NSFR = get_nsfr_model(lang, clauses, atoms, bk, device=device)"
   ],
   "metadata": {
    "collapsed": false,
    "pycharm": {
     "name": "#%%\n"
    }
   }
  },
  {
   "cell_type": "code",
   "execution_count": 7,
   "outputs": [],
   "source": [
    "metric =[[0,0,0,1,0.21,0.2],[1,0,0,0, 0.18, 0.22],[0,0,1,0,0.9,0.8],[0,1,0,0,0.5,0.5]]\n",
    "x = torch.tensor(np.array(metric), dtype=torch.float32).unsqueeze(0)"
   ],
   "metadata": {
    "collapsed": false,
    "pycharm": {
     "name": "#%%\n"
    }
   }
  },
  {
   "cell_type": "code",
   "execution_count": 8,
   "outputs": [
    {
     "data": {
      "text/plain": "torch.Size([1, 4, 6])"
     },
     "execution_count": 8,
     "metadata": {},
     "output_type": "execute_result"
    }
   ],
   "source": [
    "x.shape"
   ],
   "metadata": {
    "collapsed": false,
    "pycharm": {
     "name": "#%%\n"
    }
   }
  },
  {
   "cell_type": "code",
   "execution_count": 9,
   "outputs": [],
   "source": [
    "V_T = NSFR(x)"
   ],
   "metadata": {
    "collapsed": false,
    "pycharm": {
     "name": "#%%\n"
    }
   }
  },
  {
   "cell_type": "code",
   "execution_count": 10,
   "outputs": [
    {
     "name": "stdout",
     "output_type": "stream",
     "text": [
      "====== LEARNED PROGRAM ======\n",
      "C_0:  jump(O1):-type(O1,agent),type(O2,enemy),closeby(O1,O2). 1.0\n",
      "===== BATCH:  0 =====\n",
      "15 jump(obj2) :  1.0\n",
      "33 type(obj4,key) :  0.993\n",
      "1 .(__T__) :  0.993\n",
      "27 type(obj3,door) :  0.993\n",
      "22 type(obj2,agent) :  0.993\n",
      "20 type(obj1,enemy) :  0.993\n",
      "2 closeby(obj1,obj2) :  0.993\n",
      "5 closeby(obj2,obj1) :  0.993\n"
     ]
    }
   ],
   "source": [
    "NSFR.print_valuation_batch(V_T)"
   ],
   "metadata": {
    "collapsed": false,
    "pycharm": {
     "name": "#%%\n"
    }
   }
  },
  {
   "cell_type": "code",
   "execution_count": 11,
   "outputs": [
    {
     "data": {
      "text/plain": "tensor([[0.02183, 0.99322, 0.99312, 0.02183, 0.02183, 0.99312, 0.02183, 0.02183, 0.02183, 0.02183, 0.02183, 0.02183, 0.02183, 0.02183, 0.02188, 1.00000, 0.02185, 0.02185, 0.02183, 0.02183, 0.99322, 0.02183, 0.99322, 0.02183, 0.02183, 0.02183, 0.02183, 0.99322, 0.02183, 0.02183, 0.02183, 0.02183, 0.02183, 0.99322]],\n       grad_fn=<DivBackward0>)"
     },
     "execution_count": 11,
     "metadata": {},
     "output_type": "execute_result"
    }
   ],
   "source": [
    "V_T"
   ],
   "metadata": {
    "collapsed": false,
    "pycharm": {
     "name": "#%%\n"
    }
   }
  },
  {
   "cell_type": "code",
   "execution_count": 12,
   "outputs": [
    {
     "data": {
      "text/plain": "[.(__F__),\n .(__T__),\n closeby(obj1,obj2),\n closeby(obj1,obj3),\n closeby(obj1,obj4),\n closeby(obj2,obj1),\n closeby(obj2,obj3),\n closeby(obj2,obj4),\n closeby(obj3,obj1),\n closeby(obj3,obj2),\n closeby(obj3,obj4),\n closeby(obj4,obj1),\n closeby(obj4,obj2),\n closeby(obj4,obj3),\n jump(obj1),\n jump(obj2),\n jump(obj3),\n jump(obj4),\n type(obj1,agent),\n type(obj1,door),\n type(obj1,enemy),\n type(obj1,key),\n type(obj2,agent),\n type(obj2,door),\n type(obj2,enemy),\n type(obj2,key),\n type(obj3,agent),\n type(obj3,door),\n type(obj3,enemy),\n type(obj3,key),\n type(obj4,agent),\n type(obj4,door),\n type(obj4,enemy),\n type(obj4,key)]"
     },
     "execution_count": 12,
     "metadata": {},
     "output_type": "execute_result"
    }
   ],
   "source": [
    "atoms"
   ],
   "metadata": {
    "collapsed": false,
    "pycharm": {
     "name": "#%%\n"
    }
   }
  },
  {
   "cell_type": "code",
   "execution_count": 13,
   "outputs": [
    {
     "name": "stdout",
     "output_type": "stream",
     "text": [
      "tensor(0.02183, grad_fn=<SelectBackward0>) .(__F__)\n",
      "tensor(0.99322, grad_fn=<SelectBackward0>) .(__T__)\n",
      "tensor(0.99312, grad_fn=<SelectBackward0>) closeby(obj1,obj2)\n",
      "tensor(0.02183, grad_fn=<SelectBackward0>) closeby(obj1,obj3)\n",
      "tensor(0.02183, grad_fn=<SelectBackward0>) closeby(obj1,obj4)\n",
      "tensor(0.99312, grad_fn=<SelectBackward0>) closeby(obj2,obj1)\n",
      "tensor(0.02183, grad_fn=<SelectBackward0>) closeby(obj2,obj3)\n",
      "tensor(0.02183, grad_fn=<SelectBackward0>) closeby(obj2,obj4)\n",
      "tensor(0.02183, grad_fn=<SelectBackward0>) closeby(obj3,obj1)\n",
      "tensor(0.02183, grad_fn=<SelectBackward0>) closeby(obj3,obj2)\n",
      "tensor(0.02183, grad_fn=<SelectBackward0>) closeby(obj3,obj4)\n",
      "tensor(0.02183, grad_fn=<SelectBackward0>) closeby(obj4,obj1)\n",
      "tensor(0.02183, grad_fn=<SelectBackward0>) closeby(obj4,obj2)\n",
      "tensor(0.02183, grad_fn=<SelectBackward0>) closeby(obj4,obj3)\n",
      "tensor(0.02188, grad_fn=<SelectBackward0>) jump(obj1)\n",
      "tensor(1., grad_fn=<SelectBackward0>) jump(obj2)\n",
      "tensor(0.02185, grad_fn=<SelectBackward0>) jump(obj3)\n",
      "tensor(0.02185, grad_fn=<SelectBackward0>) jump(obj4)\n",
      "tensor(0.02183, grad_fn=<SelectBackward0>) type(obj1,agent)\n",
      "tensor(0.02183, grad_fn=<SelectBackward0>) type(obj1,door)\n",
      "tensor(0.99322, grad_fn=<SelectBackward0>) type(obj1,enemy)\n",
      "tensor(0.02183, grad_fn=<SelectBackward0>) type(obj1,key)\n",
      "tensor(0.99322, grad_fn=<SelectBackward0>) type(obj2,agent)\n",
      "tensor(0.02183, grad_fn=<SelectBackward0>) type(obj2,door)\n",
      "tensor(0.02183, grad_fn=<SelectBackward0>) type(obj2,enemy)\n",
      "tensor(0.02183, grad_fn=<SelectBackward0>) type(obj2,key)\n",
      "tensor(0.02183, grad_fn=<SelectBackward0>) type(obj3,agent)\n",
      "tensor(0.99322, grad_fn=<SelectBackward0>) type(obj3,door)\n",
      "tensor(0.02183, grad_fn=<SelectBackward0>) type(obj3,enemy)\n",
      "tensor(0.02183, grad_fn=<SelectBackward0>) type(obj3,key)\n",
      "tensor(0.02183, grad_fn=<SelectBackward0>) type(obj4,agent)\n",
      "tensor(0.02183, grad_fn=<SelectBackward0>) type(obj4,door)\n",
      "tensor(0.02183, grad_fn=<SelectBackward0>) type(obj4,enemy)\n",
      "tensor(0.99322, grad_fn=<SelectBackward0>) type(obj4,key)\n"
     ]
    }
   ],
   "source": [
    "for i, atom in enumerate(atoms):\n",
    "    print(V_T[0][i], atom)"
   ],
   "metadata": {
    "collapsed": false,
    "pycharm": {
     "name": "#%%\n"
    }
   }
  },
  {
   "cell_type": "code",
   "execution_count": null,
   "outputs": [],
   "source": [],
   "metadata": {
    "collapsed": false,
    "pycharm": {
     "name": "#%%\n"
    }
   }
  }
 ],
 "metadata": {
  "kernelspec": {
   "display_name": "Python 3",
   "language": "python",
   "name": "python3"
  },
  "language_info": {
   "codemirror_mode": {
    "name": "ipython",
    "version": 2
   },
   "file_extension": ".py",
   "mimetype": "text/x-python",
   "name": "python",
   "nbconvert_exporter": "python",
   "pygments_lexer": "ipython2",
   "version": "2.7.6"
  }
 },
 "nbformat": 4,
 "nbformat_minor": 0
}