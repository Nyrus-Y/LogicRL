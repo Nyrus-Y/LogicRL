{
 "cells": [
  {
   "cell_type": "code",
   "execution_count": 1,
   "outputs": [],
   "source": [
    "\n",
    "import sys\n",
    "sys.path.append('src/')\n",
    "from src.logic_utils import get_lang\n",
    "\n",
    "import torch\n",
    "import numpy as np"
   ],
   "metadata": {
    "collapsed": false,
    "pycharm": {
     "name": "#%%\n"
    }
   }
  },
  {
   "cell_type": "code",
   "execution_count": 2,
   "outputs": [],
   "source": [
    "lark_path = '../src/lark/exp.lark'\n",
    "lang_base_path = '../data/lang/'\n",
    "lang, clauses, bk, atoms = get_lang(\n",
    "        lark_path, lang_base_path,'coinjump1', 'coinjump')"
   ],
   "metadata": {
    "collapsed": false,
    "pycharm": {
     "name": "#%%\n"
    }
   }
  },
  {
   "cell_type": "code",
   "execution_count": 3,
   "outputs": [
    {
     "data": {
      "text/plain": "[.(__F__),\n .(__T__),\n closeby(obj1,obj2),\n closeby(obj1,obj3),\n closeby(obj1,obj4),\n closeby(obj2,obj1),\n closeby(obj2,obj3),\n closeby(obj2,obj4),\n closeby(obj3,obj1),\n closeby(obj3,obj2),\n closeby(obj3,obj4),\n closeby(obj4,obj1),\n closeby(obj4,obj2),\n closeby(obj4,obj3),\n have_key(img),\n jump(img),\n left(img),\n not_have_key(img),\n on_left(obj1,obj2),\n on_left(obj1,obj3),\n on_left(obj1,obj4),\n on_left(obj2,obj1),\n on_left(obj2,obj3),\n on_left(obj2,obj4),\n on_left(obj3,obj1),\n on_left(obj3,obj2),\n on_left(obj3,obj4),\n on_left(obj4,obj1),\n on_left(obj4,obj2),\n on_left(obj4,obj3),\n on_right(obj1,obj2),\n on_right(obj1,obj3),\n on_right(obj1,obj4),\n on_right(obj2,obj1),\n on_right(obj2,obj3),\n on_right(obj2,obj4),\n on_right(obj3,obj1),\n on_right(obj3,obj2),\n on_right(obj3,obj4),\n on_right(obj4,obj1),\n on_right(obj4,obj2),\n on_right(obj4,obj3),\n right(img),\n type(obj1,agent),\n type(obj1,door),\n type(obj1,enemy),\n type(obj1,key),\n type(obj2,agent),\n type(obj2,door),\n type(obj2,enemy),\n type(obj2,key),\n type(obj3,agent),\n type(obj3,door),\n type(obj3,enemy),\n type(obj3,key),\n type(obj4,agent),\n type(obj4,door),\n type(obj4,enemy),\n type(obj4,key)]"
     },
     "execution_count": 3,
     "metadata": {},
     "output_type": "execute_result"
    }
   ],
   "source": [
    "atoms"
   ],
   "metadata": {
    "collapsed": false,
    "pycharm": {
     "name": "#%%\n"
    }
   }
  },
  {
   "cell_type": "code",
   "execution_count": 4,
   "outputs": [],
   "source": [
    "\n",
    "from percept import SlotAttentionPerceptionModule, YOLOPerceptionModule\n",
    "from facts_converter import FactsConverter\n",
    "from nsfr import NSFReasoner\n",
    "from logic_utils import build_infer_module, generate_atoms\n",
    "from valuation import RLValuationModule\n",
    "device = torch.device('cpu')"
   ],
   "metadata": {
    "collapsed": false,
    "pycharm": {
     "name": "#%%\n"
    }
   }
  },
  {
   "cell_type": "code",
   "execution_count": 5,
   "outputs": [],
   "source": [
    "def get_nsfr_model(lang, clauses, atoms, bk, device):\n",
    "    PM = YOLOPerceptionModule(e=4, d=11, device=device)\n",
    "    VM = RLValuationModule(\n",
    "            lang=lang, device=device)\n",
    "    FC = FactsConverter(lang=lang, perception_module=PM,\n",
    "                        valuation_module=VM, device=device)\n",
    "    IM = build_infer_module(clauses, atoms, lang,\n",
    "                            m=len(clauses), infer_step=16, device=device)\n",
    "    # Neuro-Symbolic Forward Reasoner\n",
    "    NSFR = NSFReasoner(perception_module=PM, facts_converter=FC,\n",
    "                       infer_module=IM, atoms=atoms, bk=bk, clauses=clauses)\n",
    "    return NSFR"
   ],
   "metadata": {
    "collapsed": false,
    "pycharm": {
     "name": "#%%\n"
    }
   }
  },
  {
   "cell_type": "code",
   "execution_count": 6,
   "outputs": [],
   "source": [
    "NSFR = get_nsfr_model(lang, clauses, atoms, bk, device=device)"
   ],
   "metadata": {
    "collapsed": false,
    "pycharm": {
     "name": "#%%\n"
    }
   }
  },
  {
   "cell_type": "code",
   "execution_count": 7,
   "outputs": [],
   "source": [
    "metric =[[1,0,0,0,11,2],[0,1,0,0,14,2],[0,0,1,0,14.1,2],[0,0,0,1,20,2]]\n",
    "x = torch.tensor(np.array(metric), dtype=torch.float32).unsqueeze(0)"
   ],
   "metadata": {
    "collapsed": false,
    "pycharm": {
     "name": "#%%\n"
    }
   }
  },
  {
   "cell_type": "code",
   "execution_count": 8,
   "outputs": [
    {
     "data": {
      "text/plain": "torch.Size([1, 4, 6])"
     },
     "execution_count": 8,
     "metadata": {},
     "output_type": "execute_result"
    }
   ],
   "source": [
    "x.shape"
   ],
   "metadata": {
    "collapsed": false,
    "pycharm": {
     "name": "#%%\n"
    }
   }
  },
  {
   "cell_type": "code",
   "execution_count": 9,
   "outputs": [],
   "source": [
    "V_T = NSFR(x)"
   ],
   "metadata": {
    "collapsed": false,
    "pycharm": {
     "name": "#%%\n"
    }
   }
  },
  {
   "cell_type": "code",
   "execution_count": 10,
   "outputs": [
    {
     "name": "stdout",
     "output_type": "stream",
     "text": [
      "====== LEARNED PROGRAM ======\n",
      "C_0:  jump(X):-type(O1,agent),type(O2,enemy),closeby(O1,O2). 1.0\n",
      "C_1:  left(X):-type(O1,agent),type(O2,key),on_left(O2,O1),not_have_key(X). 1.0\n",
      "C_2:  right(X):-type(O1,agent),type(O2,key),on_right(O2,O1),not_have_key(X). 1.0\n",
      "C_3:  left(X):-type(O1,agent),type(O2,door),on_left(O2,O1),have_key(X). 1.0\n",
      "C_4:  right(X):-type(O1,agent),type(O2,door),on_right(O2,O1),have_key(X). 1.0\n",
      "===== BATCH:  0 =====\n",
      "1 .(__T__) :  1.0\n",
      "57 type(obj4,enemy) :  1.0\n",
      "52 type(obj3,door) :  1.0\n",
      "50 type(obj2,key) :  1.0\n",
      "43 type(obj1,agent) :  1.0\n",
      "17 not_have_key(img) :  0.9\n",
      "19 on_left(obj1,obj3) :  0.9\n",
      "20 on_left(obj1,obj4) :  0.9\n",
      "22 on_left(obj2,obj3) :  0.9\n",
      "23 on_left(obj2,obj4) :  0.9\n",
      "26 on_left(obj3,obj4) :  0.9\n",
      "41 on_right(obj4,obj3) :  0.9\n",
      "40 on_right(obj4,obj2) :  0.9\n",
      "39 on_right(obj4,obj1) :  0.9\n",
      "33 on_right(obj2,obj1) :  0.9\n",
      "18 on_left(obj1,obj2) :  0.9\n",
      "37 on_right(obj3,obj2) :  0.9\n",
      "36 on_right(obj3,obj1) :  0.9\n",
      "6 closeby(obj2,obj3) :  0.9\n",
      "9 closeby(obj3,obj2) :  0.9\n",
      "42 right(img) :  0.838\n"
     ]
    }
   ],
   "source": [
    "NSFR.print_valuation_batch(V_T)"
   ],
   "metadata": {
    "collapsed": false,
    "pycharm": {
     "name": "#%%\n"
    }
   }
  },
  {
   "cell_type": "code",
   "execution_count": 11,
   "outputs": [
    {
     "data": {
      "text/plain": "tensor([[0.06869, 1.00000, 0.06869, 0.06869, 0.06869, 0.06869, 0.90000, 0.06869, 0.06869, 0.90000, 0.06869, 0.06869, 0.06869, 0.06869, 0.06869, 0.09013, 0.09122, 0.90000, 0.90000, 0.90000, 0.90000, 0.06869, 0.90000, 0.90000, 0.06869, 0.06869, 0.90000, 0.06869, 0.06869, 0.06869, 0.06869, 0.06869, 0.06869, 0.90000,\n         0.06869, 0.06869, 0.90000, 0.90000, 0.06869, 0.90000, 0.90000, 0.90000, 0.83773, 1.00000, 0.06869, 0.06869, 0.06869, 0.06869, 0.06869, 0.06869, 1.00000, 0.06869, 1.00000, 0.06869, 0.06869, 0.06869, 0.06869, 1.00000, 0.06869]])"
     },
     "execution_count": 11,
     "metadata": {},
     "output_type": "execute_result"
    }
   ],
   "source": [
    "V_T"
   ],
   "metadata": {
    "collapsed": false,
    "pycharm": {
     "name": "#%%\n"
    }
   }
  },
  {
   "cell_type": "code",
   "execution_count": 12,
   "outputs": [
    {
     "data": {
      "text/plain": "[.(__F__),\n .(__T__),\n closeby(obj1,obj2),\n closeby(obj1,obj3),\n closeby(obj1,obj4),\n closeby(obj2,obj1),\n closeby(obj2,obj3),\n closeby(obj2,obj4),\n closeby(obj3,obj1),\n closeby(obj3,obj2),\n closeby(obj3,obj4),\n closeby(obj4,obj1),\n closeby(obj4,obj2),\n closeby(obj4,obj3),\n have_key(img),\n jump(img),\n left(img),\n not_have_key(img),\n on_left(obj1,obj2),\n on_left(obj1,obj3),\n on_left(obj1,obj4),\n on_left(obj2,obj1),\n on_left(obj2,obj3),\n on_left(obj2,obj4),\n on_left(obj3,obj1),\n on_left(obj3,obj2),\n on_left(obj3,obj4),\n on_left(obj4,obj1),\n on_left(obj4,obj2),\n on_left(obj4,obj3),\n on_right(obj1,obj2),\n on_right(obj1,obj3),\n on_right(obj1,obj4),\n on_right(obj2,obj1),\n on_right(obj2,obj3),\n on_right(obj2,obj4),\n on_right(obj3,obj1),\n on_right(obj3,obj2),\n on_right(obj3,obj4),\n on_right(obj4,obj1),\n on_right(obj4,obj2),\n on_right(obj4,obj3),\n right(img),\n type(obj1,agent),\n type(obj1,door),\n type(obj1,enemy),\n type(obj1,key),\n type(obj2,agent),\n type(obj2,door),\n type(obj2,enemy),\n type(obj2,key),\n type(obj3,agent),\n type(obj3,door),\n type(obj3,enemy),\n type(obj3,key),\n type(obj4,agent),\n type(obj4,door),\n type(obj4,enemy),\n type(obj4,key)]"
     },
     "execution_count": 12,
     "metadata": {},
     "output_type": "execute_result"
    }
   ],
   "source": [
    "atoms"
   ],
   "metadata": {
    "collapsed": false,
    "pycharm": {
     "name": "#%%\n"
    }
   }
  },
  {
   "cell_type": "code",
   "execution_count": 13,
   "outputs": [
    {
     "name": "stdout",
     "output_type": "stream",
     "text": [
      "tensor(0.06869) .(__F__)\n",
      "tensor(1.) .(__T__)\n",
      "tensor(0.06869) closeby(obj1,obj2)\n",
      "tensor(0.06869) closeby(obj1,obj3)\n",
      "tensor(0.06869) closeby(obj1,obj4)\n",
      "tensor(0.06869) closeby(obj2,obj1)\n",
      "tensor(0.90000) closeby(obj2,obj3)\n",
      "tensor(0.06869) closeby(obj2,obj4)\n",
      "tensor(0.06869) closeby(obj3,obj1)\n",
      "tensor(0.90000) closeby(obj3,obj2)\n",
      "tensor(0.06869) closeby(obj3,obj4)\n",
      "tensor(0.06869) closeby(obj4,obj1)\n",
      "tensor(0.06869) closeby(obj4,obj2)\n",
      "tensor(0.06869) closeby(obj4,obj3)\n",
      "tensor(0.06869) have_key(img)\n",
      "tensor(0.09013) jump(img)\n",
      "tensor(0.09122) left(img)\n",
      "tensor(0.90000) not_have_key(img)\n",
      "tensor(0.90000) on_left(obj1,obj2)\n",
      "tensor(0.90000) on_left(obj1,obj3)\n",
      "tensor(0.90000) on_left(obj1,obj4)\n",
      "tensor(0.06869) on_left(obj2,obj1)\n",
      "tensor(0.90000) on_left(obj2,obj3)\n",
      "tensor(0.90000) on_left(obj2,obj4)\n",
      "tensor(0.06869) on_left(obj3,obj1)\n",
      "tensor(0.06869) on_left(obj3,obj2)\n",
      "tensor(0.90000) on_left(obj3,obj4)\n",
      "tensor(0.06869) on_left(obj4,obj1)\n",
      "tensor(0.06869) on_left(obj4,obj2)\n",
      "tensor(0.06869) on_left(obj4,obj3)\n",
      "tensor(0.06869) on_right(obj1,obj2)\n",
      "tensor(0.06869) on_right(obj1,obj3)\n",
      "tensor(0.06869) on_right(obj1,obj4)\n",
      "tensor(0.90000) on_right(obj2,obj1)\n",
      "tensor(0.06869) on_right(obj2,obj3)\n",
      "tensor(0.06869) on_right(obj2,obj4)\n",
      "tensor(0.90000) on_right(obj3,obj1)\n",
      "tensor(0.90000) on_right(obj3,obj2)\n",
      "tensor(0.06869) on_right(obj3,obj4)\n",
      "tensor(0.90000) on_right(obj4,obj1)\n",
      "tensor(0.90000) on_right(obj4,obj2)\n",
      "tensor(0.90000) on_right(obj4,obj3)\n",
      "tensor(0.83773) right(img)\n",
      "tensor(1.) type(obj1,agent)\n",
      "tensor(0.06869) type(obj1,door)\n",
      "tensor(0.06869) type(obj1,enemy)\n",
      "tensor(0.06869) type(obj1,key)\n",
      "tensor(0.06869) type(obj2,agent)\n",
      "tensor(0.06869) type(obj2,door)\n",
      "tensor(0.06869) type(obj2,enemy)\n",
      "tensor(1.) type(obj2,key)\n",
      "tensor(0.06869) type(obj3,agent)\n",
      "tensor(1.) type(obj3,door)\n",
      "tensor(0.06869) type(obj3,enemy)\n",
      "tensor(0.06869) type(obj3,key)\n",
      "tensor(0.06869) type(obj4,agent)\n",
      "tensor(0.06869) type(obj4,door)\n",
      "tensor(1.) type(obj4,enemy)\n",
      "tensor(0.06869) type(obj4,key)\n"
     ]
    }
   ],
   "source": [
    "for i, atom in enumerate(atoms):\n",
    "    print(V_T[0][i], atom)"
   ],
   "metadata": {
    "collapsed": false,
    "pycharm": {
     "name": "#%%\n"
    }
   }
  },
  {
   "cell_type": "code",
   "execution_count": 1,
   "outputs": [],
   "source": [
    "import argparse"
   ],
   "metadata": {
    "collapsed": false,
    "pycharm": {
     "name": "#%%\n"
    }
   }
  },
  {
   "cell_type": "code",
   "execution_count": 8,
   "outputs": [
    {
     "name": "stderr",
     "output_type": "stream",
     "text": [
      "usage: ipykernel_launcher.py [-h] -alg {PPO,SimplePPO,BeamRules} -env\n",
      "                             {coinjump,bigfish,heist} -s SEED\n",
      "ipykernel_launcher.py: error: the following arguments are required: -alg/--algo, -env/--environment, -s/--seed\n"
     ]
    },
    {
     "ename": "SystemExit",
     "evalue": "2",
     "output_type": "error",
     "traceback": [
      "An exception has occurred, use %tb to see the full traceback.\n",
      "\u001B[1;31mSystemExit\u001B[0m\u001B[1;31m:\u001B[0m 2\n"
     ]
    },
    {
     "name": "stderr",
     "output_type": "stream",
     "text": [
      "C:\\Users\\tongz\\anaconda3\\envs\\procgen\\lib\\site-packages\\IPython\\core\\interactiveshell.py:3406: UserWarning: To exit: use 'exit', 'quit', or Ctrl-D.\n",
      "  warn(\"To exit: use 'exit', 'quit', or Ctrl-D.\", stacklevel=1)\n"
     ]
    }
   ],
   "source": [
    "parser = argparse.ArgumentParser()\n",
    "\n",
    "parser.add_argument(\"-alg\", \"--algo\", help=\"Activation function to use\",\n",
    "                    action=\"store\", dest=\"algo\", required=True,\n",
    "                    choices=['PPO', 'SimplePPO', 'BeamRules'])\n",
    "parser.add_argument(\"-env\", \"--environment\", help=\"Environment to train on\",\n",
    "                    required=True, action=\"store\", dest=\"env\",\n",
    "                    choices=['coinjump', 'bigfish', 'heist'])\n",
    "parser.add_argument(\"-s\", \"--seed\", help=\"Seed for pytorch + env\",\n",
    "                    required=True, action=\"store\", dest=\"seed\", type=int,\n",
    "                    default=0)\n",
    "# parser.add_argument(\"--recover\", help=\"Recover from the last trained agent\",\n",
    "#                     action=\"store_true\", dest=\"recover\", default=False)\n",
    "# parser.add_argument(\"--load\", help=\"Pytorch file to load if continue training\",\n",
    "#                     action=\"store_true\", dest=\"load\", default=False)\n",
    "args = parser.parse_args()"
   ],
   "metadata": {
    "collapsed": false,
    "pycharm": {
     "name": "#%%\n"
    }
   }
  },
  {
   "cell_type": "code",
   "execution_count": 4,
   "outputs": [
    {
     "ename": "NameError",
     "evalue": "name 'args' is not defined",
     "output_type": "error",
     "traceback": [
      "\u001B[1;31m---------------------------------------------------------------------------\u001B[0m",
      "\u001B[1;31mNameError\u001B[0m                                 Traceback (most recent call last)",
      "Input \u001B[1;32mIn [4]\u001B[0m, in \u001B[0;36m<cell line: 1>\u001B[1;34m()\u001B[0m\n\u001B[1;32m----> 1\u001B[0m \u001B[38;5;28mprint\u001B[39m(\u001B[43margs\u001B[49m\u001B[38;5;241m.\u001B[39menv)\n",
      "\u001B[1;31mNameError\u001B[0m: name 'args' is not defined"
     ]
    }
   ],
   "source": [
    "print(args.env)"
   ],
   "metadata": {
    "collapsed": false,
    "pycharm": {
     "name": "#%%\n"
    }
   }
  },
  {
   "cell_type": "code",
   "execution_count": null,
   "outputs": [],
   "source": [],
   "metadata": {
    "collapsed": false,
    "pycharm": {
     "name": "#%%\n"
    }
   }
  }
 ],
 "metadata": {
  "kernelspec": {
   "display_name": "Python 3",
   "language": "python",
   "name": "python3"
  },
  "language_info": {
   "codemirror_mode": {
    "name": "ipython",
    "version": 2
   },
   "file_extension": ".py",
   "mimetype": "text/x-python",
   "name": "python",
   "nbconvert_exporter": "python",
   "pygments_lexer": "ipython2",
   "version": "2.7.6"
  }
 },
 "nbformat": 4,
 "nbformat_minor": 0
}