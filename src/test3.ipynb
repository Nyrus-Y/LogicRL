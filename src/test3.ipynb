{
 "cells": [
  {
   "cell_type": "code",
   "execution_count": 1,
   "outputs": [],
   "source": [
    "import math\n",
    "\n",
    "import torch\n",
    "import torch.nn as nn\n",
    "import numpy as np\n",
    "import matplotlib.pyplot as plt\n",
    "from matplotlib.legend import Legend\n",
    "import seaborn as sns\n",
    "from src.coinjump.coinjump_learn.training.ppo_coinjump_logic_policy import NSFR_ActorCritic"
   ],
   "metadata": {
    "collapsed": false,
    "pycharm": {
     "name": "#%%\n"
    }
   }
  },
  {
   "cell_type": "code",
   "execution_count": 91,
   "outputs": [
    {
     "name": "stdout",
     "output_type": "stream",
     "text": [
      "tensor([[-1.9593e+00,  3.4196e-01, -9.1606e-01, -6.1278e-01, -5.6864e-01,\n",
      "          5.0379e-01, -1.9000e+00, -6.1808e-01, -8.7754e-01,  5.6794e-01,\n",
      "          7.6720e-01, -1.9507e+00, -1.5044e+00, -1.0264e+00,  6.6937e-02,\n",
      "         -1.0578e+00, -1.8788e-01,  6.5157e-01, -1.3101e+00, -1.3112e+00,\n",
      "          2.9529e-01, -2.0433e+00,  1.0770e+00, -3.8172e-01, -5.4971e-01,\n",
      "         -2.9134e-01, -9.7587e-01,  6.5346e-01, -6.1912e-01, -6.7860e-01,\n",
      "          1.1082e+00,  6.2933e-01,  1.1010e+00, -1.2469e+00,  1.1643e+00,\n",
      "         -1.4291e+00, -1.0964e+00, -2.0173e-01, -1.6380e-01, -1.2455e+00,\n",
      "         -2.8248e-01,  4.7039e-01, -8.4872e-01,  4.7134e-01,  1.4444e+00,\n",
      "         -1.5695e+00,  7.9516e-01, -2.1326e+00, -1.9401e-01,  1.6236e+00,\n",
      "         -9.7350e-04, -7.9236e-01,  3.4421e-01,  1.3141e+00, -5.7580e-01,\n",
      "         -3.4909e-01, -1.7712e+00, -5.5404e-01,  2.6000e+00,  1.7913e-01,\n",
      "         -1.8247e+00,  1.7038e+00,  1.4342e+00,  2.1026e+00,  3.4627e-01,\n",
      "         -7.4525e-01,  2.1761e+00,  4.0519e-01, -1.7035e+00, -8.0760e-01,\n",
      "         -4.0528e-02, -1.8754e+00, -1.0416e+00, -1.9321e+00,  4.6558e-01],\n",
      "        [ 8.7824e-01, -8.1726e-02, -1.9195e-01, -1.8197e+00,  3.5453e-01,\n",
      "         -1.0641e+00,  5.4456e-01,  5.6463e-01,  7.5904e-01,  6.9208e-01,\n",
      "          6.5573e-01, -1.5622e-02,  1.5984e+00,  3.1150e-01, -1.2132e+00,\n",
      "         -1.1040e+00, -1.7532e-01, -7.0025e-01,  8.5791e-01, -9.4590e-01,\n",
      "         -1.4343e+00, -7.2688e-01,  5.5473e-01,  1.0018e+00, -2.1055e-01,\n",
      "         -3.1366e+00,  9.3641e-02,  5.6783e-01,  5.2879e-01,  9.9234e-01,\n",
      "         -3.3060e-01,  1.1328e-01, -2.4624e-01, -1.9788e+00,  4.2697e-01,\n",
      "          1.1642e-01,  3.5687e-01,  1.4580e-01, -2.6110e-01, -7.0614e-01,\n",
      "          9.0281e-01,  7.1779e-01, -3.7636e-01, -3.9542e-02, -1.5029e-01,\n",
      "          4.8923e-01, -7.0263e-01,  7.8463e-01, -1.3852e+00,  2.1768e+00,\n",
      "         -3.5235e-01, -1.5318e+00, -7.8144e-01,  6.2646e-01,  2.0372e-01,\n",
      "         -1.4929e+00,  1.1922e+00,  1.3348e+00,  5.6755e-01, -1.9929e+00,\n",
      "         -1.6754e+00,  2.2905e+00, -5.0365e-01,  1.4100e-01, -3.2077e-02,\n",
      "          1.1028e+00, -3.8557e-01, -5.7742e-02, -1.1633e+00, -2.1137e+00,\n",
      "          3.2365e-01,  1.8233e+00,  1.5018e-01, -7.5960e-02, -1.2154e+00],\n",
      "        [-3.1501e-01, -2.9412e+00,  1.1543e-01, -2.0257e+00,  2.6253e+00,\n",
      "          5.0410e-01, -6.1267e-01, -5.8225e-01, -5.1675e-01,  2.9728e-01,\n",
      "         -1.4816e-01, -8.9236e-01,  1.5506e-01,  6.0090e-01,  6.9445e-02,\n",
      "         -1.4015e+00,  7.9118e-01,  9.1316e-02,  2.4049e+00, -8.0350e-01,\n",
      "         -5.9592e-01,  5.5921e-01,  1.1052e+00,  6.0805e-01, -1.8498e-01,\n",
      "         -4.3894e-02,  5.6703e-01, -4.2462e-01, -9.6680e-01, -4.5624e-01,\n",
      "          2.5315e+00,  6.4664e-01, -9.2189e-01,  2.0077e+00, -3.2871e-01,\n",
      "          5.1482e-01, -1.0168e-01, -2.8503e+00, -5.0693e-01, -1.7598e+00,\n",
      "          2.1900e+00, -4.1172e-01,  2.0507e-01, -2.1352e-01,  3.6253e-01,\n",
      "         -5.4032e-01,  1.5112e-01, -1.0386e+00, -1.2399e+00, -2.4710e+00,\n",
      "          4.2088e-01, -6.4161e-02, -1.2840e-01,  5.0871e-02,  8.8324e-01,\n",
      "         -1.2176e+00,  8.0719e-01, -2.3976e-01,  7.7708e-01, -2.3107e-01,\n",
      "          9.9855e-03, -1.8441e-01,  8.7664e-01, -8.1670e-01, -1.6884e+00,\n",
      "         -1.0155e+00, -1.2380e+00,  6.2053e-01, -1.6837e+00,  4.7326e-01,\n",
      "          9.6593e-01,  1.6412e+00,  2.2417e-01,  8.6265e-01, -7.8628e-01],\n",
      "        [ 4.6175e-01,  1.0060e-01, -5.1446e-03,  3.3677e-01, -7.8113e-03,\n",
      "          4.4293e-02,  2.5624e-01, -8.6192e-01,  5.6373e-01, -1.5593e+00,\n",
      "         -3.6899e-01,  2.4299e-01,  6.2839e-01,  1.2177e+00, -2.4863e-01,\n",
      "          5.7055e-01, -7.0177e-01, -8.2835e-01, -2.2306e-01,  5.8170e-01,\n",
      "          1.3801e+00,  6.9979e-01,  1.9299e+00, -1.9687e+00, -5.7102e-01,\n",
      "          1.1113e+00,  1.5021e+00,  6.2697e-01,  4.3793e-01, -2.6053e+00,\n",
      "         -8.8843e-01, -1.2907e-01, -1.2517e-01,  5.1105e-01,  1.2497e-01,\n",
      "         -4.3774e-01, -1.3568e-01,  1.0817e+00,  2.0464e+00,  1.3254e-01,\n",
      "          1.5152e+00,  2.0487e+00,  5.7798e-01, -2.9799e-01,  3.8477e-01,\n",
      "         -1.4835e+00, -1.4465e+00, -1.3074e+00,  7.1277e-01, -1.0163e-01,\n",
      "         -5.7656e-01,  8.6132e-01,  1.9093e+00, -8.4381e-02, -1.9901e+00,\n",
      "         -2.1582e-01,  3.2830e-01,  2.6439e-01,  8.0204e-02,  8.3500e-01,\n",
      "          6.1806e-01, -5.5578e-03,  1.7521e-01, -1.7343e-01,  1.0480e+00,\n",
      "          2.0694e+00,  6.5868e-01, -7.0649e-01, -8.2874e-01,  1.3527e+00,\n",
      "         -1.5314e+00, -1.1083e-01, -7.2759e-01,  3.6236e-01, -4.6088e-01],\n",
      "        [-1.3889e+00,  3.2154e-01, -1.9432e-02,  2.2598e-01, -2.1796e-01,\n",
      "          1.8816e+00,  5.4918e-01, -1.2583e-01, -5.1655e-02, -1.0596e-01,\n",
      "          1.2715e+00,  3.2073e-01,  1.1748e-01,  4.1967e-01, -8.3961e-01,\n",
      "          1.2605e+00,  2.8084e-01,  1.7671e+00, -1.8124e+00,  6.2262e-01,\n",
      "         -8.8594e-01,  7.3208e-01, -6.8848e-01, -1.0456e+00,  1.3557e+00,\n",
      "          1.9319e+00, -2.3344e-01,  1.6256e-01,  2.0375e-01,  8.6504e-01,\n",
      "         -4.2913e-01,  1.3092e-01, -1.0735e-01, -2.9622e-01,  7.4739e-02,\n",
      "         -2.4459e-01,  9.0462e-01, -5.8716e-01,  5.7028e-01, -8.6488e-01,\n",
      "         -1.3784e+00, -3.3136e-01,  4.9146e-01,  1.0205e+00, -4.3328e-01,\n",
      "          3.4860e-01,  2.0997e-01, -4.4556e-01,  7.6832e-02, -5.7806e-01,\n",
      "          5.2528e-01,  1.9165e-01,  6.6771e-01, -4.3260e-02, -4.2949e-02,\n",
      "         -1.1665e+00,  1.5111e+00,  1.2002e-01,  3.6131e-02, -9.4142e-01,\n",
      "         -1.2670e+00, -1.8090e+00,  3.1009e-01,  3.2307e-01,  5.3882e-01,\n",
      "         -1.7600e-01, -4.1916e-01, -1.5234e+00, -6.8407e-01, -9.0421e-02,\n",
      "         -4.9272e-01,  1.6236e-01,  1.2924e+00,  4.3060e-01,  1.6196e+00]])\n"
     ]
    }
   ],
   "source": [
    "#weight = torch.softmax(torch.tensor([[0.6796, 0.3204],\n",
    "#                       [0.4077, 0.5923]]), dim=1)\n",
    "# weight = torch.rand((5, 10)) * 10\n",
    "# weight = nn.Parameter(torch.Tensor(torch.rand((5, 10))))\n",
    "W = torch.Tensor(np.random.normal(size=(5, 75)))\n",
    "print(W)"
   ],
   "metadata": {
    "collapsed": false,
    "pycharm": {
     "name": "#%%\n"
    }
   }
  },
  {
   "cell_type": "code",
   "execution_count": 156,
   "outputs": [],
   "source": [
    "def plot_weights(weights):\n",
    "    weights = torch.softmax(weights, dim=1)\n",
    "    sns.set()\n",
    "    sns.set_style('white')\n",
    "    plt.figure(figsize=(5, 12))\n",
    "    plt.xlim([0, 1])\n",
    "    # x_label = ['Jump', 'Left_key', 'Right_key', 'Left_door',\n",
    "    #            'Right_door', 'Stay', 'Jump_door', 'Left_nothing', 'Right_enemy',\n",
    "    #            'Stay_nothing']\n",
    "    y_label = ['J1', 'J2', 'J3', 'J4', 'J5', 'J6', 'J7', 'J8', 'J9', 'J10', 'J11', 'J12', 'J13', 'J14', 'J15'\n",
    "        , 'LK1', 'LK2', 'LK3', 'LK4', 'LK5', 'LK6', 'LK7', 'LK8', 'LK9', 'LK10', 'LK11', 'LK12', 'LK13', 'LK14', 'LK15'\n",
    "        , 'LD1', 'LD2', 'LD3', 'LD4', 'LD5', 'LD6', 'LD7', 'LD8', 'LD9', 'LD10', 'LD11', 'LD12', 'LD13', 'LD14', 'LD15'\n",
    "        , 'RK1', 'RK2', 'RK3', 'RK4', 'RK5', 'RK6', 'RK7', 'RK8', 'RK9', 'RK10', 'RK11', 'RK12', 'RK13', 'RK14', 'RK15'\n",
    "        , 'RD1', 'RD2', 'RD3', 'RD4', 'RD5', 'RD6', 'RD7', 'RD8', 'RD9', 'RD10', 'RD11', 'RD12', 'RD13', 'RD14', 'RD15']\n",
    "    # x_label = ['Jump', 'Left_k', 'Right_k', 'Left_d',\n",
    "    #            'Right_d', 'Stay', 'Jump_d', 'Left_n', 'Right_e',\n",
    "    #            'Stay_n']\n",
    "    y = np.arange(len(y_label))\n",
    "    width = 0.5\n",
    "    #X = x - width * 3\n",
    "    for i, W in enumerate(weights):\n",
    "        W_ = W.detach().cpu().numpy()\n",
    "\n",
    "        # X = X + width\n",
    "        # plt.bar(X, W_, width=width, alpha=1, label='C' + str(i))\n",
    "        plt.barh(y=y,width=W_, alpha=1, label='C' + str(i))\n",
    "        # plt.bar(range(len(W_)), W_, width=0.2, alpha=1, label='C' + str(i))\n",
    "\n",
    "    plt.yticks(y, y_label, fontproperties=\"Microsoft YaHei\", size=8)\n",
    "    plt.xlabel('Weights', size=14)\n",
    "    plt.legend(bbox_to_anchor=(1.02, 1), loc='upper left', borderaxespad=0)\n",
    "    # plt.savefig(image_directory + 'W_' + str(time_step) + '.png', bbox_inches='tight')\n",
    "    plt.show()\n",
    "    plt.close()"
   ],
   "metadata": {
    "collapsed": false,
    "pycharm": {
     "name": "#%%\n"
    }
   }
  },
  {
   "cell_type": "code",
   "execution_count": 157,
   "outputs": [
    {
     "data": {
      "text/plain": "<Figure size 500x1200 with 1 Axes>",
      "image/png": "[encoded data removed]"
     },
     "metadata": {},
     "output_type": "display_data"
    }
   ],
   "source": [
    "plot_weights(W)"
   ],
   "metadata": {
    "collapsed": false,
    "pycharm": {
     "name": "#%%\n"
    }
   }
  },
  {
   "cell_type": "markdown",
   "source": [],
   "metadata": {
    "collapsed": false,
    "pycharm": {
     "name": "#%% md\n"
    }
   }
  },
  {
   "cell_type": "code",
   "execution_count": 4,
   "outputs": [
    {
     "ename": "NameError",
     "evalue": "name 'np' is not defined",
     "output_type": "error",
     "traceback": [
      "\u001B[1;31m---------------------------------------------------------------------------\u001B[0m",
      "\u001B[1;31mNameError\u001B[0m                                 Traceback (most recent call last)",
      "Input \u001B[1;32mIn [4]\u001B[0m, in \u001B[0;36m<cell line: 1>\u001B[1;34m()\u001B[0m\n\u001B[1;32m----> 1\u001B[0m W \u001B[38;5;241m=\u001B[39m torch\u001B[38;5;241m.\u001B[39mTensor(\u001B[43mnp\u001B[49m\u001B[38;5;241m.\u001B[39mrandom\u001B[38;5;241m.\u001B[39mnormal(size\u001B[38;5;241m=\u001B[39m(\u001B[38;5;241m5\u001B[39m, \u001B[38;5;241m10\u001B[39m)))\n\u001B[0;32m      2\u001B[0m \u001B[38;5;28mprint\u001B[39m(W)\n",
      "\u001B[1;31mNameError\u001B[0m: name 'np' is not defined"
     ]
    }
   ],
   "source": [
    "W = torch.Tensor(np.random.normal(size=(5, 10)))\n",
    "print(W)"
   ],
   "metadata": {
    "collapsed": false,
    "pycharm": {
     "name": "#%%\n"
    }
   }
  },
  {
   "cell_type": "code",
   "execution_count": 145,
   "outputs": [
    {
     "data": {
      "text/plain": "<Figure size 640x480 with 1 Axes>",
      "image/png": "[encoded data removed]"
     },
     "metadata": {},
     "output_type": "display_data"
    }
   ],
   "source": [
    "import numpy as np\n",
    "data = [5, 20, 15, 25, 10]\n",
    "data = np.ones(75)\n",
    "plt.barh(range(len(data)), data)\n",
    "plt.show()"
   ],
   "metadata": {
    "collapsed": false,
    "pycharm": {
     "name": "#%%\n"
    }
   }
  },
  {
   "cell_type": "code",
   "execution_count": 143,
   "outputs": [
    {
     "name": "stdout",
     "output_type": "stream",
     "text": [
      "tensor([0.0000, 0.5614])\n",
      "tensor([0., 0.])\n",
      "tensor([1.0000, 0.4386])\n"
     ]
    }
   ],
   "source": [
    "import math\n",
    "import torch\n",
    "\n",
    "\n",
    "def fuzzy_position(pos1, pos2, keyword):\n",
    "    x = pos2[:, 0] - pos1[:, 0]\n",
    "    y = pos2[:, 1] - pos1[:, 1]\n",
    "    tan = torch.atan2(y, x)\n",
    "    degree = tan[:] / torch.pi * 180\n",
    "\n",
    "    if keyword == 'top':\n",
    "        probs = 1 - abs(degree[:] - 90) / 90\n",
    "        result = torch.where((180 >= degree) & (degree >= 0), probs, 0)\n",
    "    elif keyword == 'left':\n",
    "        probs = (abs(degree[:]) - 90) / 90\n",
    "        result = torch.where((degree <= -90) | (degree >= 90), probs, 0)\n",
    "    elif keyword == 'bottom':\n",
    "        probs = 1 - abs(degree[:] + 90) / 90\n",
    "        result = torch.where((0 >= degree) & (degree >= -180), probs, 0)\n",
    "    elif keyword == 'right':\n",
    "        probs = 1 - abs(degree[:]) / 90\n",
    "        result = torch.where((90 >= degree) & (degree >= -90), probs, 0)\n",
    "\n",
    "    return result\n",
    "\n",
    "\n",
    "a = torch.tensor([[0, 5], [9, 1]])\n",
    "b = torch.tensor([[0, 6], [0.5,8]])\n",
    "# c = torch.tensor([[0, 2]])\n",
    "# d = torch.tensor([[1, 3]])\n",
    "#\n",
    "print(fuzzy_position(a, b, keyword='left'))\n",
    "print(fuzzy_position(a, b, keyword='bottom'))\n",
    "print(fuzzy_position(a, b, keyword='top'))\n",
    "# print(fuzzy_position(a, b, keyword='right'))"
   ],
   "metadata": {
    "collapsed": false,
    "pycharm": {
     "name": "#%%\n"
    }
   }
  },
  {
   "cell_type": "code",
   "execution_count": 11,
   "outputs": [],
   "source": [
    "''"
   ],
   "metadata": {
    "collapsed": false,
    "pycharm": {
     "name": "#%%\n"
    }
   }
  },
  {
   "cell_type": "code",
   "execution_count": 2,
   "outputs": [
    {
     "name": "stdout",
     "output_type": "stream",
     "text": [
      "tensor(1.0000)\n"
     ]
    }
   ],
   "source": [
    "import torch\n",
    "\n",
    "a = torch.sigmoid(torch.tensor(9.9999))\n",
    "print(a)"
   ],
   "metadata": {
    "collapsed": false,
    "pycharm": {
     "name": "#%%\n"
    }
   }
  },
  {
   "cell_type": "code",
   "execution_count": 7,
   "outputs": [],
   "source": [
    "class LogisticRegression(torch.nn.Module):\n",
    "    def __init__(self, input_dim, output_dim=1):\n",
    "        super(LogisticRegression, self).__init__()\n",
    "        self.linear = torch.nn.Linear(input_dim, output_dim)\n",
    "\n",
    "    def forward(self, x):\n",
    "        y_pred = torch.sigmoid(self.linear(x))\n",
    "        return y_pred"
   ],
   "metadata": {
    "collapsed": false,
    "pycharm": {
     "name": "#%%\n"
    }
   }
  },
  {
   "cell_type": "code",
   "execution_count": null,
   "outputs": [],
   "source": [],
   "metadata": {
    "collapsed": false,
    "pycharm": {
     "name": "#%%\n"
    }
   }
  },
  {
   "cell_type": "code",
   "execution_count": 17,
   "outputs": [],
   "source": [
    "logi = LogisticRegression(input_dim=1)"
   ],
   "metadata": {
    "collapsed": false,
    "pycharm": {
     "name": "#%%\n"
    }
   }
  },
  {
   "cell_type": "code",
   "execution_count": 26,
   "outputs": [
    {
     "name": "stdout",
     "output_type": "stream",
     "text": [
      "tensor([[2.],\n",
      "        [1.]])\n",
      "[Parameter containing:\n",
      "tensor([[-0.0786]], requires_grad=True), Parameter containing:\n",
      "tensor([-0.4418], requires_grad=True)]\n",
      "tensor([[0.3546],\n",
      "        [0.3728]], grad_fn=<SigmoidBackward0>)\n"
     ]
    }
   ],
   "source": [
    "\n",
    "dist = torch.tensor([2,1],dtype=torch.float)\n",
    "dist = dist.unsqueeze(1)\n",
    "print(dist)\n",
    "print(list(logi.parameters()))\n",
    "print(logi(dist))\n"
   ],
   "metadata": {
    "collapsed": false,
    "pycharm": {
     "name": "#%%\n"
    }
   }
  },
  {
   "cell_type": "code",
   "execution_count": 161,
   "outputs": [
    {
     "name": "stdout",
     "output_type": "stream",
     "text": [
      "False\n"
     ]
    }
   ],
   "source": [
    "a ='jump'\n",
    "b =['jump1']\n",
    "print(a in b)"
   ],
   "metadata": {
    "collapsed": false,
    "pycharm": {
     "name": "#%%\n"
    }
   }
  },
  {
   "cell_type": "code",
   "execution_count": null,
   "outputs": [],
   "source": [],
   "metadata": {
    "collapsed": false,
    "pycharm": {
     "name": "#%%\n"
    }
   }
  }
 ],
 "metadata": {
  "kernelspec": {
   "display_name": "Python 3",
   "language": "python",
   "name": "python3"
  },
  "language_info": {
   "codemirror_mode": {
    "name": "ipython",
    "version": 2
   },
   "file_extension": ".py",
   "mimetype": "text/x-python",
   "name": "python",
   "nbconvert_exporter": "python",
   "pygments_lexer": "ipython2",
   "version": "2.7.6"
  }
 },
 "nbformat": 4,
 "nbformat_minor": 0
}